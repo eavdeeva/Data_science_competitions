{
 "cells": [
  {
   "cell_type": "code",
   "execution_count": 73,
   "metadata": {},
   "outputs": [],
   "source": [
    "import numpy as np\n",
    "import pandas as pd\n",
    "import matplotlib.pyplot as plt\n",
    "import seaborn as sns\n",
    "%matplotlib inline\n",
    "\n",
    "df = pd.read_csv('all/train.csv')\n",
    "df_test = pd.read_csv('all/test.csv')"
   ]
  },
  {
   "cell_type": "markdown",
   "metadata": {},
   "source": [
    "Here is the <a href='https://www.kaggle.com/serigne/stacked-regressions-top-4-on-leaderboard'>kernel by Serigne</a> that explains well the procedure of imputing missing values for this dataset. I'm following the instructions from that kernel.  \n",
    "\n",
    "The transformation of the DataFrame include the following steps:\n",
    "- imputting missing values\n",
    "- dropping several columns\n",
    "- transforming several numerical values to categorial\n",
    "- log-transform of the target variable and 'LotArea'"
   ]
  },
  {
   "cell_type": "code",
   "execution_count": 74,
   "metadata": {},
   "outputs": [
    {
     "name": "stdout",
     "output_type": "stream",
     "text": [
      "(1460, 66)\n",
      "(1459, 65)\n"
     ]
    }
   ],
   "source": [
    "def FillWithNone(df,s_list):\n",
    "    n = len(s_list)\n",
    "    for i in range (n):\n",
    "        df[s_list[i]].fillna('None',inplace=True)  \n",
    "\n",
    "def FillWith0(df,s_list):\n",
    "    n = len(s_list)\n",
    "    for i in range (n):\n",
    "        df[s_list[i]].fillna(0,inplace=True)  \n",
    "        \n",
    "def ToStrType(df,s_list):\n",
    "    n = len(s_list)\n",
    "    for i in range (n):\n",
    "        df[s_list[i]] = df[s_list[i]].astype(str)  \n",
    "        \n",
    "def DropProblem(df,s_list):\n",
    "    n = len(s_list)\n",
    "    for i in range (n):\n",
    "        df.drop([s_list[i]],axis=1,inplace=True)\n",
    "\n",
    "# Transform DataFrame\n",
    "# - imput missing values\n",
    "# - drop several columns\n",
    "# - log-transform the target variable\n",
    "# - transform some numerical values to categorial\n",
    "def TransformDataFrame(df):\n",
    "    # this missing data is filled as described in the \n",
    "    # Serigne's kernel\n",
    "    s_fill_None=['PoolQC','MiscFeature','Alley','Fence','FireplaceQu',\n",
    "                'GarageType','GarageFinish','GarageQual','GarageCond',\n",
    "                'BsmtQual', 'BsmtCond', 'BsmtExposure', 'BsmtFinType1', \n",
    "                'BsmtFinType2','MasVnrType','MSSubClass']\n",
    "    s_fill_0=['GarageArea','GarageCars','BsmtFinSF1', 'BsmtFinSF2', \n",
    "              'BsmtUnfSF','TotalBsmtSF', 'BsmtFullBath', 'BsmtHalfBath',\n",
    "              'MasVnrArea']\n",
    "    s_to_str=['MSSubClass','OverallCond']\n",
    "    FillWithNone(df,s_fill_None)\n",
    "    FillWith0(df,s_fill_0)\n",
    "    ToStrType(df,s_to_str)\n",
    "    df['Functional'].fillna('Typ',inplace=True)\n",
    "    df['Electrical'].fillna('SBrkr',inplace=True) # 1334\n",
    "    df['Exterior1st'].fillna('VinylSd',inplace=True) # 515\n",
    "    df['Exterior2nd'].fillna('VinylSd',inplace=True) # 504\n",
    "    df['SaleType'].fillna('WD',inplace=True) # 1267\n",
    "    df['MSZoning'].fillna('RL',inplace=True) # 1151\n",
    "    df.drop(['Utilities'],axis=1,inplace=True)\n",
    "    df['LotArea'] = df['LotArea'].apply(lambda x: np.log1p(x))\n",
    "    df.drop(['GarageYrBlt'],axis=1,inplace=True) # highly correlated with YearBuilt\n",
    "    df.drop(['LotFrontage'],axis=1,inplace=True) # too many values are missing\n",
    "    df['KitchenQual'].fillna('miss',inplace=True) # no value significantly outnumbers others\n",
    "    \n",
    "    s_to_drop_problem=['MSSubClass','Condition2','HouseStyle','RoofMatl',\n",
    "                      'Exterior1st','Exterior2nd','Heating','Electrical',\n",
    "                      'KitchenQual','GarageQual','PoolQC','MiscFeature']\n",
    "    DropProblem(df,s_to_drop_problem)\n",
    "    \n",
    "# Transform DataFrame\n",
    "TransformDataFrame(df)\n",
    "TransformDataFrame(df_test)\n",
    "df['SalePrice'] = df['SalePrice'].apply(lambda x: np.log1p(x))\n",
    "\n",
    "print(df.shape)\n",
    "print(df_test.shape)"
   ]
  },
  {
   "cell_type": "code",
   "execution_count": 75,
   "metadata": {},
   "outputs": [
    {
     "name": "stdout",
     "output_type": "stream",
     "text": [
      " \n",
      "MSZoning\n",
      "['RL' 'RM' 'C (all)' 'FV' 'RH']\n",
      "['RH' 'RL' 'RM' 'FV' 'C (all)']\n",
      "same\n",
      " \n",
      "Street\n",
      "['Pave' 'Grvl']\n",
      "['Pave' 'Grvl']\n",
      "same\n",
      " \n",
      "Alley\n",
      "['None' 'Grvl' 'Pave']\n",
      "['None' 'Pave' 'Grvl']\n",
      "same\n",
      " \n",
      "LotShape\n",
      "['Reg' 'IR1' 'IR2' 'IR3']\n",
      "['Reg' 'IR1' 'IR2' 'IR3']\n",
      "same\n",
      " \n",
      "LandContour\n",
      "['Lvl' 'Bnk' 'Low' 'HLS']\n",
      "['Lvl' 'HLS' 'Bnk' 'Low']\n",
      "same\n",
      " \n",
      "LotConfig\n",
      "['Inside' 'FR2' 'Corner' 'CulDSac' 'FR3']\n",
      "['Inside' 'Corner' 'FR2' 'CulDSac' 'FR3']\n",
      "same\n",
      " \n",
      "LandSlope\n",
      "['Gtl' 'Mod' 'Sev']\n",
      "['Gtl' 'Mod' 'Sev']\n",
      "same\n",
      " \n",
      "Neighborhood\n",
      "['CollgCr' 'Veenker' 'Crawfor' 'NoRidge' 'Mitchel' 'Somerst' 'NWAmes'\n",
      " 'OldTown' 'BrkSide' 'Sawyer' 'NridgHt' 'NAmes' 'SawyerW' 'IDOTRR'\n",
      " 'MeadowV' 'Edwards' 'Timber' 'Gilbert' 'StoneBr' 'ClearCr' 'NPkVill'\n",
      " 'Blmngtn' 'BrDale' 'SWISU' 'Blueste']\n",
      "['NAmes' 'Gilbert' 'StoneBr' 'BrDale' 'NPkVill' 'NridgHt' 'Blmngtn'\n",
      " 'NoRidge' 'Somerst' 'SawyerW' 'Sawyer' 'NWAmes' 'OldTown' 'BrkSide'\n",
      " 'ClearCr' 'SWISU' 'Edwards' 'CollgCr' 'Crawfor' 'Blueste' 'IDOTRR'\n",
      " 'Mitchel' 'Timber' 'MeadowV' 'Veenker']\n",
      "same\n",
      " \n",
      "Condition1\n",
      "['Norm' 'Feedr' 'PosN' 'Artery' 'RRAe' 'RRNn' 'RRAn' 'PosA' 'RRNe']\n",
      "['Feedr' 'Norm' 'PosN' 'RRNe' 'Artery' 'RRNn' 'PosA' 'RRAn' 'RRAe']\n",
      "same\n",
      " \n",
      "BldgType\n",
      "['1Fam' '2fmCon' 'Duplex' 'TwnhsE' 'Twnhs']\n",
      "['1Fam' 'TwnhsE' 'Twnhs' 'Duplex' '2fmCon']\n",
      "same\n",
      " \n",
      "OverallCond\n",
      "['5' '8' '6' '7' '4' '2' '3' '9' '1']\n",
      "['6' '5' '7' '8' '2' '9' '3' '4' '1']\n",
      "same\n",
      " \n",
      "RoofStyle\n",
      "['Gable' 'Hip' 'Gambrel' 'Mansard' 'Flat' 'Shed']\n",
      "['Gable' 'Hip' 'Gambrel' 'Flat' 'Mansard' 'Shed']\n",
      "same\n",
      " \n",
      "MasVnrType\n",
      "['BrkFace' 'None' 'Stone' 'BrkCmn']\n",
      "['None' 'BrkFace' 'Stone' 'BrkCmn']\n",
      "same\n",
      " \n",
      "ExterQual\n",
      "['Gd' 'TA' 'Ex' 'Fa']\n",
      "['TA' 'Gd' 'Ex' 'Fa']\n",
      "same\n",
      " \n",
      "ExterCond\n",
      "['TA' 'Gd' 'Fa' 'Po' 'Ex']\n",
      "['TA' 'Gd' 'Fa' 'Po' 'Ex']\n",
      "same\n",
      " \n",
      "Foundation\n",
      "['PConc' 'CBlock' 'BrkTil' 'Wood' 'Slab' 'Stone']\n",
      "['CBlock' 'PConc' 'BrkTil' 'Stone' 'Slab' 'Wood']\n",
      "same\n",
      " \n",
      "BsmtQual\n",
      "['Gd' 'TA' 'Ex' 'None' 'Fa']\n",
      "['TA' 'Gd' 'Ex' 'Fa' 'None']\n",
      "same\n",
      " \n",
      "BsmtCond\n",
      "['TA' 'Gd' 'None' 'Fa' 'Po']\n",
      "['TA' 'Po' 'Fa' 'Gd' 'None']\n",
      "same\n",
      " \n",
      "BsmtExposure\n",
      "['No' 'Gd' 'Mn' 'Av' 'None']\n",
      "['No' 'Gd' 'Mn' 'Av' 'None']\n",
      "same\n",
      " \n",
      "BsmtFinType1\n",
      "['GLQ' 'ALQ' 'Unf' 'Rec' 'BLQ' 'None' 'LwQ']\n",
      "['Rec' 'ALQ' 'GLQ' 'Unf' 'BLQ' 'LwQ' 'None']\n",
      "same\n",
      " \n",
      "BsmtFinType2\n",
      "['Unf' 'BLQ' 'None' 'ALQ' 'Rec' 'LwQ' 'GLQ']\n",
      "['LwQ' 'Unf' 'Rec' 'BLQ' 'GLQ' 'ALQ' 'None']\n",
      "same\n",
      " \n",
      "HeatingQC\n",
      "['Ex' 'Gd' 'TA' 'Fa' 'Po']\n",
      "['TA' 'Gd' 'Ex' 'Fa' 'Po']\n",
      "same\n",
      " \n",
      "CentralAir\n",
      "['Y' 'N']\n",
      "['Y' 'N']\n",
      "same\n",
      " \n",
      "Functional\n",
      "['Typ' 'Min1' 'Maj1' 'Min2' 'Mod' 'Maj2' 'Sev']\n",
      "['Typ' 'Min2' 'Min1' 'Mod' 'Maj1' 'Sev' 'Maj2']\n",
      "same\n",
      " \n",
      "FireplaceQu\n",
      "['None' 'TA' 'Gd' 'Fa' 'Ex' 'Po']\n",
      "['None' 'TA' 'Gd' 'Po' 'Fa' 'Ex']\n",
      "same\n",
      " \n",
      "GarageType\n",
      "['Attchd' 'Detchd' 'BuiltIn' 'CarPort' 'None' 'Basment' '2Types']\n",
      "['Attchd' 'Detchd' 'BuiltIn' 'None' 'Basment' '2Types' 'CarPort']\n",
      "same\n",
      " \n",
      "GarageFinish\n",
      "['RFn' 'Unf' 'Fin' 'None']\n",
      "['Unf' 'Fin' 'RFn' 'None']\n",
      "same\n",
      " \n",
      "GarageCond\n",
      "['TA' 'Fa' 'None' 'Gd' 'Po' 'Ex']\n",
      "['TA' 'None' 'Fa' 'Gd' 'Po' 'Ex']\n",
      "same\n",
      " \n",
      "PavedDrive\n",
      "['Y' 'N' 'P']\n",
      "['Y' 'N' 'P']\n",
      "same\n",
      " \n",
      "Fence\n",
      "['None' 'MnPrv' 'GdWo' 'GdPrv' 'MnWw']\n",
      "['MnPrv' 'None' 'GdPrv' 'GdWo' 'MnWw']\n",
      "same\n",
      " \n",
      "SaleType\n",
      "['WD' 'New' 'COD' 'ConLD' 'ConLI' 'CWD' 'ConLw' 'Con' 'Oth']\n",
      "['WD' 'COD' 'New' 'ConLD' 'Oth' 'Con' 'ConLw' 'ConLI' 'CWD']\n",
      "same\n",
      " \n",
      "SaleCondition\n",
      "['Normal' 'Abnorml' 'Partial' 'AdjLand' 'Alloca' 'Family']\n",
      "['Normal' 'Partial' 'Abnorml' 'Family' 'Alloca' 'AdjLand']\n",
      "same\n"
     ]
    }
   ],
   "source": [
    "strListObj = df.select_dtypes(include='object').columns.values\n",
    "nObj=strListObj.size\n",
    "\n",
    "def Compare(np1,np2):\n",
    "    if (np1.size!=np2.size):\n",
    "        print('DIFFERENT')\n",
    "        return 0\n",
    "    n = np1.size\n",
    "    for i in range(n):\n",
    "        eq=0\n",
    "        for j in range(n):\n",
    "            if (np1[i]==np2[j]): \n",
    "                eq=1\n",
    "                break\n",
    "        if (eq==0):\n",
    "            print('DIFFERENT. {} missing in set #2'.format(np1[i]))\n",
    "    print('same')\n",
    "    return 1\n",
    "\n",
    "for i in range(nObj):\n",
    "    print(' ')\n",
    "    print(strListObj[i])\n",
    "    print(df[strListObj[i]].unique())\n",
    "    print(df_test[strListObj[i]].unique())\n",
    "    c = Compare(df[strListObj[i]].unique(),df_test[strListObj[i]].unique())"
   ]
  },
  {
   "cell_type": "code",
   "execution_count": 76,
   "metadata": {},
   "outputs": [
    {
     "name": "stdout",
     "output_type": "stream",
     "text": [
      "(1460, 222)\n",
      "(1459, 221)\n"
     ]
    }
   ],
   "source": [
    "df = pd.get_dummies(df)\n",
    "df_test = pd.get_dummies(df_test)\n",
    "print(df.shape)\n",
    "print(df_test.shape)"
   ]
  },
  {
   "cell_type": "code",
   "execution_count": 77,
   "metadata": {},
   "outputs": [],
   "source": [
    "from sklearn.model_selection import train_test_split\n",
    "from sklearn.linear_model import LinearRegression\n",
    "from sklearn import metrics"
   ]
  },
  {
   "cell_type": "code",
   "execution_count": 78,
   "metadata": {},
   "outputs": [
    {
     "name": "stderr",
     "output_type": "stream",
     "text": [
      "/sysroot/home/ekaterina/anaconda3/lib/python3.6/site-packages/matplotlib/axes/_axes.py:6462: UserWarning: The 'normed' kwarg is deprecated, and has been replaced by the 'density' kwarg.\n",
      "  warnings.warn(\"The 'normed' kwarg is deprecated, and has been \"\n",
      "/sysroot/home/ekaterina/anaconda3/lib/python3.6/site-packages/matplotlib/axes/_axes.py:6462: UserWarning: The 'normed' kwarg is deprecated, and has been replaced by the 'density' kwarg.\n",
      "  warnings.warn(\"The 'normed' kwarg is deprecated, and has been \"\n"
     ]
    },
    {
     "name": "stdout",
     "output_type": "stream",
     "text": [
      "RMSE test: 7294.232256862575\n",
      "RMSE train 0.1027121877378802\n"
     ]
    },
    {
     "data": {
      "image/png": "[encoded data removed]",
      "text/plain": [
       "<Figure size 720x216 with 2 Axes>"
      ]
     },
     "metadata": {},
     "output_type": "display_data"
    }
   ],
   "source": [
    "lm = LinearRegression(fit_intercept=True)\n",
    "X = df.drop(['SalePrice','Id'],axis=1)\n",
    "y = df['SalePrice']\n",
    "X_train, X_test, y_train, y_test = train_test_split(X, y, \n",
    "                                                    test_size=0.4, \n",
    "                                                    random_state=101)\n",
    "\n",
    "lm.fit(X_train,y_train)\n",
    "\n",
    "pred_test_lm = lm.predict(X_test)\n",
    "pred_train_lm = lm.predict(X_train)\n",
    "\n",
    "from scipy.stats import norm\n",
    "\n",
    "def PlotComparison(y_test,y_train,pred_test,pred_train):\n",
    "    fig, (ax1,ax2) = plt.subplots(figsize=(10,3),ncols=2)\n",
    "    sns.distplot((y_test-pred_test),fit=norm,bins=50,ax=ax1)\n",
    "    sns.distplot((y_train-pred_train),fit=norm,bins=50,ax=ax1)\n",
    "    plt.scatter(y_test,pred_test)\n",
    "    plt.scatter(y_train,pred_train)\n",
    "    print('RMSE test:', np.sqrt(metrics.mean_squared_error(y_test, pred_test)))\n",
    "    print('RMSE train', np.sqrt(metrics.mean_squared_error(y_train, pred_train)))\n",
    "    \n",
    "PlotComparison(y_test,y_train,pred_test_lm,pred_train_lm)"
   ]
  },
  {
   "cell_type": "code",
   "execution_count": 72,
   "metadata": {},
   "outputs": [
    {
     "name": "stderr",
     "output_type": "stream",
     "text": [
      "/sysroot/home/ekaterina/anaconda3/lib/python3.6/site-packages/matplotlib/axes/_axes.py:6462: UserWarning: The 'normed' kwarg is deprecated, and has been replaced by the 'density' kwarg.\n",
      "  warnings.warn(\"The 'normed' kwarg is deprecated, and has been \"\n"
     ]
    },
    {
     "data": {
      "text/plain": [
       "<matplotlib.collections.PathCollection at 0x7ff57c204080>"
      ]
     },
     "execution_count": 72,
     "metadata": {},
     "output_type": "execute_result"
    },
    {
     "data": {
      "image/png": "[encoded data removed]",
      "text/plain": [
       "<Figure size 720x216 with 2 Axes>"
      ]
     },
     "metadata": {},
     "output_type": "display_data"
    }
   ],
   "source": [
    "fig, (ax1,ax2) = plt.subplots(figsize=(10,3),ncols=2)\n",
    "sns.distplot((y_train-pred_train_lm),fit=norm,bins=50,ax=ax1)\n",
    "plt.scatter(y_train,pred_train_lm)"
   ]
  },
  {
   "cell_type": "code",
   "execution_count": null,
   "metadata": {},
   "outputs": [],
   "source": []
  }
 ],
 "metadata": {
  "kernelspec": {
   "display_name": "Python 3",
   "language": "python",
   "name": "python3"
  },
  "language_info": {
   "codemirror_mode": {
    "name": "ipython",
    "version": 3
   },
   "file_extension": ".py",
   "mimetype": "text/x-python",
   "name": "python",
   "nbconvert_exporter": "python",
   "pygments_lexer": "ipython3",
   "version": "3.6.5"
  }
 },
 "nbformat": 4,
 "nbformat_minor": 2
}
