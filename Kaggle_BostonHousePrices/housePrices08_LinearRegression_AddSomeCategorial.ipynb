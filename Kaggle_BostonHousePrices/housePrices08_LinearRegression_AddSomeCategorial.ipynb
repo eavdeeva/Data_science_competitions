{
 "cells": [
  {
   "cell_type": "code",
   "execution_count": 11,
   "metadata": {},
   "outputs": [],
   "source": [
    "import numpy as np\n",
    "import pandas as pd\n",
    "import matplotlib.pyplot as plt\n",
    "import seaborn as sns\n",
    "%matplotlib inline\n",
    "\n",
    "df = pd.read_csv('all/train.csv')\n",
    "df_test = pd.read_csv('all/test.csv')"
   ]
  },
  {
   "cell_type": "markdown",
   "metadata": {},
   "source": [
    "Here is the <a href='https://www.kaggle.com/serigne/stacked-regressions-top-4-on-leaderboard'>kernel by Serigne</a> that explains well the procedure of imputing missing values for this dataset. I'm following the instructions from that kernel.  \n",
    "\n",
    "The transformation of the DataFrame include the following steps:\n",
    "- imputting missing values\n",
    "- dropping several columns\n",
    "- transforming several numerical values to categorial\n",
    "- log-transform of the target variable and 'LotArea'"
   ]
  },
  {
   "cell_type": "code",
   "execution_count": 12,
   "metadata": {},
   "outputs": [
    {
     "name": "stdout",
     "output_type": "stream",
     "text": [
      "['MSZoning' 'Street' 'Alley' 'LotShape' 'LandContour' 'LotConfig'\n",
      " 'LandSlope' 'Neighborhood' 'Condition1' 'BldgType' 'OverallCond'\n",
      " 'RoofStyle' 'MasVnrType' 'ExterQual' 'ExterCond' 'Foundation' 'BsmtQual'\n",
      " 'BsmtCond' 'BsmtExposure' 'BsmtFinType1' 'BsmtFinType2' 'HeatingQC'\n",
      " 'CentralAir' 'Functional' 'FireplaceQu' 'GarageType' 'GarageFinish'\n",
      " 'GarageCond' 'PavedDrive' 'Fence' 'SaleType' 'SaleCondition']\n",
      "I didn't touch Neighborhood\n",
      "['MSZoning' 'Street' 'Alley' 'LotShape' 'LandContour' 'LotConfig'\n",
      " 'LandSlope' 'Neighborhood' 'Condition1' 'BldgType' 'OverallCond'\n",
      " 'RoofStyle' 'MasVnrType' 'ExterQual' 'ExterCond' 'Foundation' 'BsmtQual'\n",
      " 'BsmtCond' 'BsmtExposure' 'BsmtFinType1' 'BsmtFinType2' 'HeatingQC'\n",
      " 'CentralAir' 'Functional' 'FireplaceQu' 'GarageType' 'GarageFinish'\n",
      " 'GarageCond' 'PavedDrive' 'Fence' 'SaleType' 'SaleCondition']\n",
      "I didn't touch Neighborhood\n",
      "(1460, 35)\n",
      "(1459, 34)\n"
     ]
    }
   ],
   "source": [
    "def FillWithNone(df,s_list):\n",
    "    n = len(s_list)\n",
    "    for i in range (n):\n",
    "        df[s_list[i]].fillna('None',inplace=True)  \n",
    "\n",
    "def FillWith0(df,s_list):\n",
    "    n = len(s_list)\n",
    "    for i in range (n):\n",
    "        df[s_list[i]].fillna(0,inplace=True)  \n",
    "        \n",
    "def ToStrType(df,s_list):\n",
    "    n = len(s_list)\n",
    "    for i in range (n):\n",
    "        df[s_list[i]] = df[s_list[i]].astype(str)  \n",
    "        \n",
    "def DropProblem(df,s_list):\n",
    "    n = len(s_list)\n",
    "    for i in range (n):\n",
    "        df.drop([s_list[i]],axis=1,inplace=True)\n",
    "\n",
    "# Transform DataFrame\n",
    "# - imput missing values\n",
    "# - drop several columns\n",
    "# - log-transform the target variable\n",
    "# - transform some numerical values to categorial\n",
    "def TransformDataFrame(df):\n",
    "    # this missing data is filled as described in the \n",
    "    # Serigne's kernel\n",
    "    s_fill_None=['PoolQC','MiscFeature','Alley','Fence','FireplaceQu',\n",
    "                'GarageType','GarageFinish','GarageQual','GarageCond',\n",
    "                'BsmtQual', 'BsmtCond', 'BsmtExposure', 'BsmtFinType1', \n",
    "                'BsmtFinType2','MasVnrType','MSSubClass']\n",
    "    s_fill_0=['GarageArea','GarageCars','BsmtFinSF1', 'BsmtFinSF2', \n",
    "              'BsmtUnfSF','TotalBsmtSF', 'BsmtFullBath', 'BsmtHalfBath',\n",
    "              'MasVnrArea']\n",
    "    s_to_str=['MSSubClass','OverallCond']\n",
    "    FillWithNone(df,s_fill_None)\n",
    "    FillWith0(df,s_fill_0)\n",
    "    ToStrType(df,s_to_str)\n",
    "    df['Functional'].fillna('Typ',inplace=True)\n",
    "    df['Electrical'].fillna('SBrkr',inplace=True) # 1334\n",
    "    df['Exterior1st'].fillna('VinylSd',inplace=True) # 515\n",
    "    df['Exterior2nd'].fillna('VinylSd',inplace=True) # 504\n",
    "    df['SaleType'].fillna('WD',inplace=True) # 1267\n",
    "    df['MSZoning'].fillna('RL',inplace=True) # 1151\n",
    "    df.drop(['Utilities'],axis=1,inplace=True)\n",
    "    df['LotArea'] = df['LotArea'].apply(lambda x: np.log1p(x))\n",
    "    df.drop(['GarageYrBlt'],axis=1,inplace=True) # highly correlated with YearBuilt\n",
    "    df.drop(['LotFrontage'],axis=1,inplace=True) # too many values are missing\n",
    "    df['KitchenQual'].fillna('miss',inplace=True) # no value significantly outnumbers others\n",
    "    \n",
    "    s_to_drop_problem=['MSSubClass','Condition2','HouseStyle','RoofMatl',\n",
    "                      'Exterior1st','Exterior2nd','Heating','Electrical',\n",
    "                      'KitchenQual','GarageQual','PoolQC','MiscFeature']\n",
    "    DropProblem(df,s_to_drop_problem)\n",
    "    \n",
    "    # remove all categorial features\n",
    "    strListObj = df.select_dtypes(include='object').columns.values\n",
    "    print(strListObj)\n",
    "    nObj=strListObj.size\n",
    "    for i in range(nObj):\n",
    "        if (strListObj[i]=='Neighborhood'): \n",
    "            print('I didn\\'t touch Neighborhood')\n",
    "            continue\n",
    "        else: df.drop([strListObj[i]],axis=1,inplace=True)\n",
    "    \n",
    "# Transform DataFrame\n",
    "TransformDataFrame(df)\n",
    "TransformDataFrame(df_test)\n",
    "df['SalePrice'] = df['SalePrice'].apply(lambda x: np.log1p(x))\n",
    "\n",
    "print(df.shape)\n",
    "print(df_test.shape)"
   ]
  },
  {
   "cell_type": "code",
   "execution_count": 14,
   "metadata": {},
   "outputs": [
    {
     "name": "stdout",
     "output_type": "stream",
     "text": [
      "(1460, 59)\n",
      "(1459, 58)\n"
     ]
    }
   ],
   "source": [
    "df=pd.get_dummies(df)\n",
    "df_test=pd.get_dummies(df_test)\n",
    "print(df.shape)\n",
    "print(df_test.shape)"
   ]
  },
  {
   "cell_type": "code",
   "execution_count": 17,
   "metadata": {},
   "outputs": [],
   "source": [
    "from sklearn.model_selection import train_test_split\n",
    "from sklearn.linear_model import LinearRegression\n",
    "from sklearn import metrics"
   ]
  },
  {
   "cell_type": "code",
   "execution_count": 18,
   "metadata": {},
   "outputs": [
    {
     "name": "stderr",
     "output_type": "stream",
     "text": [
      "/sysroot/home/ekaterina/anaconda3/lib/python3.6/site-packages/matplotlib/axes/_axes.py:6462: UserWarning: The 'normed' kwarg is deprecated, and has been replaced by the 'density' kwarg.\n",
      "  warnings.warn(\"The 'normed' kwarg is deprecated, and has been \"\n",
      "/sysroot/home/ekaterina/anaconda3/lib/python3.6/site-packages/matplotlib/axes/_axes.py:6462: UserWarning: The 'normed' kwarg is deprecated, and has been replaced by the 'density' kwarg.\n",
      "  warnings.warn(\"The 'normed' kwarg is deprecated, and has been \"\n"
     ]
    },
    {
     "name": "stdout",
     "output_type": "stream",
     "text": [
      "RMSE test: 0.1607624694600041\n",
      "RMSE train 0.12843992479628\n"
     ]
    },
    {
     "data": {
      "image/png": "[encoded data removed]",
      "text/plain": [
       "<Figure size 720x216 with 2 Axes>"
      ]
     },
     "metadata": {},
     "output_type": "display_data"
    }
   ],
   "source": [
    "lm = LinearRegression()\n",
    "X = df.drop(['SalePrice','Id'],axis=1)\n",
    "y = df['SalePrice']\n",
    "X_train, X_test, y_train, y_test = train_test_split(X, y, \n",
    "                                                    test_size=0.4, \n",
    "                                                    random_state=101)\n",
    "\n",
    "lm.fit(X_train,y_train)\n",
    "\n",
    "pred_test = lm.predict(X_test)\n",
    "pred_train = lm.predict(X_train)\n",
    "\n",
    "from scipy.stats import norm\n",
    "\n",
    "def PlotComparison(y_test,y_train,pred_test,pred_train):\n",
    "    fig, (ax1,ax2) = plt.subplots(figsize=(10,3),ncols=2)\n",
    "    sns.distplot((y_test-pred_test),fit=norm,bins=50,ax=ax1)\n",
    "    sns.distplot((y_train-pred_train),fit=norm,bins=50,ax=ax1)\n",
    "    plt.scatter(y_test,pred_test)\n",
    "    plt.scatter(y_train,pred_train)\n",
    "    print('RMSE test:', np.sqrt(metrics.mean_squared_error(y_test, pred_test)))\n",
    "    print('RMSE train', np.sqrt(metrics.mean_squared_error(y_train, pred_train)))\n",
    "    \n",
    "PlotComparison(y_test,y_train,pred_test,pred_train)"
   ]
  },
  {
   "cell_type": "code",
   "execution_count": 19,
   "metadata": {},
   "outputs": [],
   "source": [
    "#Prepare submission\n",
    "\n",
    "X_subm = df_test.drop('Id',axis=1)\n",
    "\n",
    "pred_submit = np.expm1(lm.predict(X_subm))\n",
    "\n",
    "file=open('submit078.csv','w')\n",
    "file.write('Id,SalePrice\\n')\n",
    "for i in range(df_test.shape[0]):\n",
    "    idTest=int(df_test.at[i,'Id'])\n",
    "    \n",
    "    price=pred_submit[i]\n",
    "    \n",
    "    file.write('{},{}\\n'.format(idTest,price))\n",
    "file.close()"
   ]
  },
  {
   "cell_type": "code",
   "execution_count": null,
   "metadata": {},
   "outputs": [],
   "source": []
  }
 ],
 "metadata": {
  "kernelspec": {
   "display_name": "Python 3",
   "language": "python",
   "name": "python3"
  },
  "language_info": {
   "codemirror_mode": {
    "name": "ipython",
    "version": 3
   },
   "file_extension": ".py",
   "mimetype": "text/x-python",
   "name": "python",
   "nbconvert_exporter": "python",
   "pygments_lexer": "ipython3",
   "version": "3.6.5"
  }
 },
 "nbformat": 4,
 "nbformat_minor": 2
}
