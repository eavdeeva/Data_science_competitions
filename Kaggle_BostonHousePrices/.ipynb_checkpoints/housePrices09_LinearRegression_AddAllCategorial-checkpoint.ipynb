{
 "cells": [
  {
   "cell_type": "code",
   "execution_count": 27,
   "metadata": {},
   "outputs": [],
   "source": [
    "import numpy as np\n",
    "import pandas as pd\n",
    "import matplotlib.pyplot as plt\n",
    "import seaborn as sns\n",
    "%matplotlib inline\n",
    "\n",
    "df = pd.read_csv('all/train.csv')\n",
    "df_test = pd.read_csv('all/test.csv')"
   ]
  },
  {
   "cell_type": "markdown",
   "metadata": {},
   "source": [
    "Here is the <a href='https://www.kaggle.com/serigne/stacked-regressions-top-4-on-leaderboard'>kernel by Serigne</a> that explains well the procedure of imputing missing values for this dataset. I'm following the instructions from that kernel.  \n",
    "\n",
    "The transformation of the DataFrame include the following steps:\n",
    "- imputting missing values\n",
    "- dropping several columns\n",
    "- transforming several numerical values to categorial\n",
    "- log-transform of the target variable and 'LotArea'"
   ]
  },
  {
   "cell_type": "code",
   "execution_count": 28,
   "metadata": {},
   "outputs": [
    {
     "name": "stdout",
     "output_type": "stream",
     "text": [
      "(1460, 78)\n",
      "(1459, 77)\n",
      "(1460, 322)\n",
      "(1459, 306)\n"
     ]
    }
   ],
   "source": [
    "def FillWithNone(df,s_list):\n",
    "    n = len(s_list)\n",
    "    for i in range (n):\n",
    "        df[s_list[i]].fillna('None',inplace=True)  \n",
    "\n",
    "def FillWith0(df,s_list):\n",
    "    n = len(s_list)\n",
    "    for i in range (n):\n",
    "        df[s_list[i]].fillna(0,inplace=True)  \n",
    "        \n",
    "def ToStrType(df,s_list):\n",
    "    n = len(s_list)\n",
    "    for i in range (n):\n",
    "        df[s_list[i]] = df[s_list[i]].astype(str)  \n",
    "        \n",
    "def DropProblem(df,s_list):\n",
    "    n = len(s_list)\n",
    "    for i in range (n):\n",
    "        df.drop([s_list[i]],axis=1,inplace=True)\n",
    "\n",
    "# Transform DataFrame\n",
    "# - imput missing values\n",
    "# - drop several columns\n",
    "# - log-transform the target variable\n",
    "# - transform some numerical values to categorial\n",
    "def TransformDataFrame(df):\n",
    "    # this missing data is filled as described in the \n",
    "    # Serigne's kernel\n",
    "    s_fill_None=['PoolQC','MiscFeature','Alley','Fence','FireplaceQu',\n",
    "                'GarageType','GarageFinish','GarageQual','GarageCond',\n",
    "                'BsmtQual', 'BsmtCond', 'BsmtExposure', 'BsmtFinType1', \n",
    "                'BsmtFinType2','MasVnrType','MSSubClass']\n",
    "    s_fill_0=['GarageArea','GarageCars','BsmtFinSF1', 'BsmtFinSF2', \n",
    "              'BsmtUnfSF','TotalBsmtSF', 'BsmtFullBath', 'BsmtHalfBath',\n",
    "              'MasVnrArea']\n",
    "    s_to_str=['MSSubClass','OverallCond']\n",
    "    FillWithNone(df,s_fill_None)\n",
    "    FillWith0(df,s_fill_0)\n",
    "    ToStrType(df,s_to_str)\n",
    "    df['Functional'].fillna('Typ',inplace=True)\n",
    "    df['Electrical'].fillna('SBrkr',inplace=True) # 1334\n",
    "    df['Exterior1st'].fillna('VinylSd',inplace=True) # 515\n",
    "    df['Exterior2nd'].fillna('VinylSd',inplace=True) # 504\n",
    "    df['SaleType'].fillna('WD',inplace=True) # 1267\n",
    "    df['MSZoning'].fillna('RL',inplace=True) # 1151\n",
    "    df.drop(['Utilities'],axis=1,inplace=True)\n",
    "    df['LotArea'] = df['LotArea'].apply(lambda x: np.log1p(x))\n",
    "    df.drop(['GarageYrBlt'],axis=1,inplace=True) # highly correlated with YearBuilt\n",
    "    df.drop(['LotFrontage'],axis=1,inplace=True) # too many values are missing\n",
    "    df['KitchenQual'].fillna('miss',inplace=True) # no value significantly outnumbers others\n",
    "    \n",
    "    \n",
    "# Transform DataFrame\n",
    "TransformDataFrame(df)\n",
    "TransformDataFrame(df_test)\n",
    "df['SalePrice'] = df['SalePrice'].apply(lambda x: np.log1p(x))\n",
    "\n",
    "print(df.shape)\n",
    "print(df_test.shape)\n",
    "df=pd.get_dummies(df)\n",
    "df_test=pd.get_dummies(df_test)\n",
    "print(df.shape)\n",
    "print(df_test.shape)"
   ]
  },
  {
   "cell_type": "code",
   "execution_count": 29,
   "metadata": {},
   "outputs": [
    {
     "name": "stdout",
     "output_type": "stream",
     "text": [
      "\n",
      "Present in train but not in test. Added to test with 0\n",
      "\n",
      "Condition2_RRAe\n",
      "Condition2_RRAn\n",
      "Condition2_RRNn\n",
      "HouseStyle_2.5Fin\n",
      "RoofMatl_ClyTile\n",
      "RoofMatl_Membran\n",
      "RoofMatl_Metal\n",
      "RoofMatl_Roll\n",
      "Exterior1st_ImStucc\n",
      "Exterior1st_Stone\n",
      "Exterior2nd_Other\n",
      "Heating_Floor\n",
      "Heating_OthW\n",
      "Electrical_Mix\n",
      "GarageQual_Ex\n",
      "PoolQC_Fa\n",
      "MiscFeature_TenC\n",
      "\n",
      "Present in test but not in train. Remove from the test dataset\n",
      "\n",
      "MSSubClass_150\n",
      "KitchenQual_miss\n",
      "(1460, 322)\n",
      "(1459, 321)\n"
     ]
    }
   ],
   "source": [
    "vals_train = df.columns.values\n",
    "vals_test = df_test.columns.values\n",
    "\n",
    "# If a value is present in the train dataset but not in test,\n",
    "# then add the column of all zeroes to the test dataset\n",
    "print('')\n",
    "print('Present in train but not in test. Added to test with 0')\n",
    "print('')\n",
    "for i in range(vals_train.size):\n",
    "    val_i_present = 0\n",
    "    if(vals_train[i]=='SalePrice'):continue\n",
    "    for j in range(vals_test.size):\n",
    "        if (vals_test[j]==vals_train[i]):\n",
    "            val_i_present = 1\n",
    "            break\n",
    "    if (val_i_present==0):\n",
    "        print(vals_train[i])\n",
    "        df_test[vals_train[i]]=0\n",
    "# If a value is present in the test dataset but not in train,\n",
    "# then remove the column from the test dataset\n",
    "print('')\n",
    "print('Present in test but not in train. Remove from the test dataset')\n",
    "print('')\n",
    "\n",
    "    \n",
    "for j in range(vals_test.size):\n",
    "    val_j_present = 0\n",
    "    for i in range(vals_train.size):\n",
    "        if (vals_test[j]==vals_train[i]):\n",
    "            val_j_present = 1\n",
    "            break\n",
    "    if (val_j_present==0):\n",
    "        print(vals_test[j])\n",
    "        df_test.drop([vals_test[j]],axis=1,inplace=True)\n",
    "        \n",
    "print(df.shape)\n",
    "print(df_test.shape)"
   ]
  },
  {
   "cell_type": "code",
   "execution_count": 30,
   "metadata": {},
   "outputs": [],
   "source": [
    "from sklearn.model_selection import train_test_split\n",
    "from sklearn.linear_model import LinearRegression\n",
    "from sklearn import metrics"
   ]
  },
  {
   "cell_type": "code",
   "execution_count": 31,
   "metadata": {},
   "outputs": [
    {
     "name": "stderr",
     "output_type": "stream",
     "text": [
      "/sysroot/home/ekaterina/anaconda3/lib/python3.6/site-packages/matplotlib/axes/_axes.py:6462: UserWarning: The 'normed' kwarg is deprecated, and has been replaced by the 'density' kwarg.\n",
      "  warnings.warn(\"The 'normed' kwarg is deprecated, and has been \"\n",
      "/sysroot/home/ekaterina/anaconda3/lib/python3.6/site-packages/matplotlib/axes/_axes.py:6462: UserWarning: The 'normed' kwarg is deprecated, and has been replaced by the 'density' kwarg.\n",
      "  warnings.warn(\"The 'normed' kwarg is deprecated, and has been \"\n"
     ]
    },
    {
     "name": "stdout",
     "output_type": "stream",
     "text": [
      "RMSE test: 0.17512662685477093\n",
      "RMSE train 0.09025106064772768\n"
     ]
    },
    {
     "data": {
      "image/png": "[encoded data removed]",
      "text/plain": [
       "<Figure size 720x216 with 2 Axes>"
      ]
     },
     "metadata": {},
     "output_type": "display_data"
    }
   ],
   "source": [
    "lm = LinearRegression()\n",
    "X = df.drop(['SalePrice','Id'],axis=1)\n",
    "y = df['SalePrice']\n",
    "X_train, X_test, y_train, y_test = train_test_split(X, y, \n",
    "                                                    test_size=0.4, \n",
    "                                                    random_state=101)\n",
    "\n",
    "lm.fit(X_train,y_train)\n",
    "\n",
    "pred_test = lm.predict(X_test)\n",
    "pred_train = lm.predict(X_train)\n",
    "\n",
    "from scipy.stats import norm\n",
    "\n",
    "def PlotComparison(y_test,y_train,pred_test,pred_train):\n",
    "    fig, (ax1,ax2) = plt.subplots(figsize=(10,3),ncols=2)\n",
    "    sns.distplot((y_test-pred_test),fit=norm,bins=50,ax=ax1)\n",
    "    sns.distplot((y_train-pred_train),fit=norm,bins=50,ax=ax1)\n",
    "    plt.scatter(y_test,pred_test)\n",
    "    plt.scatter(y_train,pred_train)\n",
    "    print('RMSE test:', np.sqrt(metrics.mean_squared_error(y_test, pred_test)))\n",
    "    print('RMSE train', np.sqrt(metrics.mean_squared_error(y_train, pred_train)))\n",
    "    \n",
    "PlotComparison(y_test,y_train,pred_test,pred_train)"
   ]
  },
  {
   "cell_type": "code",
   "execution_count": 26,
   "metadata": {},
   "outputs": [
    {
     "ename": "ValueError",
     "evalue": "shapes (1459,321) and (320,) not aligned: 321 (dim 1) != 320 (dim 0)",
     "output_type": "error",
     "traceback": [
      "\u001b[0;31m---------------------------------------------------------------------------\u001b[0m",
      "\u001b[0;31mValueError\u001b[0m                                Traceback (most recent call last)",
      "\u001b[0;32m<ipython-input-26-abe6691d20a2>\u001b[0m in \u001b[0;36m<module>\u001b[0;34m()\u001b[0m\n\u001b[1;32m      3\u001b[0m \u001b[0mX_subm\u001b[0m \u001b[0;34m=\u001b[0m \u001b[0mdf_test\u001b[0m\u001b[0;34m.\u001b[0m\u001b[0mdrop\u001b[0m\u001b[0;34m(\u001b[0m\u001b[0;34m'Id'\u001b[0m\u001b[0;34m,\u001b[0m\u001b[0maxis\u001b[0m\u001b[0;34m=\u001b[0m\u001b[0;36m1\u001b[0m\u001b[0;34m)\u001b[0m\u001b[0;34m\u001b[0m\u001b[0m\n\u001b[1;32m      4\u001b[0m \u001b[0;34m\u001b[0m\u001b[0m\n\u001b[0;32m----> 5\u001b[0;31m \u001b[0mpred_submit\u001b[0m \u001b[0;34m=\u001b[0m \u001b[0mnp\u001b[0m\u001b[0;34m.\u001b[0m\u001b[0mexpm1\u001b[0m\u001b[0;34m(\u001b[0m\u001b[0mlm\u001b[0m\u001b[0;34m.\u001b[0m\u001b[0mpredict\u001b[0m\u001b[0;34m(\u001b[0m\u001b[0mX_subm\u001b[0m\u001b[0;34m)\u001b[0m\u001b[0;34m)\u001b[0m\u001b[0;34m\u001b[0m\u001b[0m\n\u001b[0m\u001b[1;32m      6\u001b[0m \u001b[0;34m\u001b[0m\u001b[0m\n\u001b[1;32m      7\u001b[0m \u001b[0mfile\u001b[0m\u001b[0;34m=\u001b[0m\u001b[0mopen\u001b[0m\u001b[0;34m(\u001b[0m\u001b[0;34m'submit09.csv'\u001b[0m\u001b[0;34m,\u001b[0m\u001b[0;34m'w'\u001b[0m\u001b[0;34m)\u001b[0m\u001b[0;34m\u001b[0m\u001b[0m\n",
      "\u001b[0;32m~/anaconda3/lib/python3.6/site-packages/sklearn/linear_model/base.py\u001b[0m in \u001b[0;36mpredict\u001b[0;34m(self, X)\u001b[0m\n\u001b[1;32m    254\u001b[0m             \u001b[0mReturns\u001b[0m \u001b[0mpredicted\u001b[0m \u001b[0mvalues\u001b[0m\u001b[0;34m.\u001b[0m\u001b[0;34m\u001b[0m\u001b[0m\n\u001b[1;32m    255\u001b[0m         \"\"\"\n\u001b[0;32m--> 256\u001b[0;31m         \u001b[0;32mreturn\u001b[0m \u001b[0mself\u001b[0m\u001b[0;34m.\u001b[0m\u001b[0m_decision_function\u001b[0m\u001b[0;34m(\u001b[0m\u001b[0mX\u001b[0m\u001b[0;34m)\u001b[0m\u001b[0;34m\u001b[0m\u001b[0m\n\u001b[0m\u001b[1;32m    257\u001b[0m \u001b[0;34m\u001b[0m\u001b[0m\n\u001b[1;32m    258\u001b[0m     \u001b[0m_preprocess_data\u001b[0m \u001b[0;34m=\u001b[0m \u001b[0mstaticmethod\u001b[0m\u001b[0;34m(\u001b[0m\u001b[0m_preprocess_data\u001b[0m\u001b[0;34m)\u001b[0m\u001b[0;34m\u001b[0m\u001b[0m\n",
      "\u001b[0;32m~/anaconda3/lib/python3.6/site-packages/sklearn/linear_model/base.py\u001b[0m in \u001b[0;36m_decision_function\u001b[0;34m(self, X)\u001b[0m\n\u001b[1;32m    239\u001b[0m         \u001b[0mX\u001b[0m \u001b[0;34m=\u001b[0m \u001b[0mcheck_array\u001b[0m\u001b[0;34m(\u001b[0m\u001b[0mX\u001b[0m\u001b[0;34m,\u001b[0m \u001b[0maccept_sparse\u001b[0m\u001b[0;34m=\u001b[0m\u001b[0;34m[\u001b[0m\u001b[0;34m'csr'\u001b[0m\u001b[0;34m,\u001b[0m \u001b[0;34m'csc'\u001b[0m\u001b[0;34m,\u001b[0m \u001b[0;34m'coo'\u001b[0m\u001b[0;34m]\u001b[0m\u001b[0;34m)\u001b[0m\u001b[0;34m\u001b[0m\u001b[0m\n\u001b[1;32m    240\u001b[0m         return safe_sparse_dot(X, self.coef_.T,\n\u001b[0;32m--> 241\u001b[0;31m                                dense_output=True) + self.intercept_\n\u001b[0m\u001b[1;32m    242\u001b[0m \u001b[0;34m\u001b[0m\u001b[0m\n\u001b[1;32m    243\u001b[0m     \u001b[0;32mdef\u001b[0m \u001b[0mpredict\u001b[0m\u001b[0;34m(\u001b[0m\u001b[0mself\u001b[0m\u001b[0;34m,\u001b[0m \u001b[0mX\u001b[0m\u001b[0;34m)\u001b[0m\u001b[0;34m:\u001b[0m\u001b[0;34m\u001b[0m\u001b[0m\n",
      "\u001b[0;32m~/anaconda3/lib/python3.6/site-packages/sklearn/utils/extmath.py\u001b[0m in \u001b[0;36msafe_sparse_dot\u001b[0;34m(a, b, dense_output)\u001b[0m\n\u001b[1;32m    138\u001b[0m         \u001b[0;32mreturn\u001b[0m \u001b[0mret\u001b[0m\u001b[0;34m\u001b[0m\u001b[0m\n\u001b[1;32m    139\u001b[0m     \u001b[0;32melse\u001b[0m\u001b[0;34m:\u001b[0m\u001b[0;34m\u001b[0m\u001b[0m\n\u001b[0;32m--> 140\u001b[0;31m         \u001b[0;32mreturn\u001b[0m \u001b[0mnp\u001b[0m\u001b[0;34m.\u001b[0m\u001b[0mdot\u001b[0m\u001b[0;34m(\u001b[0m\u001b[0ma\u001b[0m\u001b[0;34m,\u001b[0m \u001b[0mb\u001b[0m\u001b[0;34m)\u001b[0m\u001b[0;34m\u001b[0m\u001b[0m\n\u001b[0m\u001b[1;32m    141\u001b[0m \u001b[0;34m\u001b[0m\u001b[0m\n\u001b[1;32m    142\u001b[0m \u001b[0;34m\u001b[0m\u001b[0m\n",
      "\u001b[0;31mValueError\u001b[0m: shapes (1459,321) and (320,) not aligned: 321 (dim 1) != 320 (dim 0)"
     ]
    }
   ],
   "source": [
    "#Prepare submission\n",
    "\n",
    "X_subm = df_test.drop('Id',axis=1)\n",
    "\n",
    "pred_submit = np.expm1(lm.predict(X_subm))\n",
    "\n",
    "file=open('submit09.csv','w')\n",
    "file.write('Id,SalePrice\\n')\n",
    "for i in range(df_test.shape[0]):\n",
    "    idTest=int(df_test.at[i,'Id'])\n",
    "    \n",
    "    price=pred_submit[i]\n",
    "    \n",
    "    file.write('{},{}\\n'.format(idTest,price))\n",
    "file.close()"
   ]
  },
  {
   "cell_type": "code",
   "execution_count": null,
   "metadata": {},
   "outputs": [],
   "source": []
  }
 ],
 "metadata": {
  "kernelspec": {
   "display_name": "Python 3",
   "language": "python",
   "name": "python3"
  },
  "language_info": {
   "codemirror_mode": {
    "name": "ipython",
    "version": 3
   },
   "file_extension": ".py",
   "mimetype": "text/x-python",
   "name": "python",
   "nbconvert_exporter": "python",
   "pygments_lexer": "ipython3",
   "version": "3.6.5"
  }
 },
 "nbformat": 4,
 "nbformat_minor": 2
}
