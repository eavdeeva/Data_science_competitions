{
 "cells": [
  {
   "cell_type": "code",
   "execution_count": 29,
   "metadata": {},
   "outputs": [
    {
     "name": "stderr",
     "output_type": "stream",
     "text": [
      "/sysroot/home/ekaterina/anaconda3/lib/python3.6/site-packages/IPython/core/interactiveshell.py:2785: DtypeWarning: Columns (0,2,8,10,21,23,24,25,26,27,28,44,56,64,83,85,87,107,109,123,125,150,157,172,174,194,210,218,219,223,246,249,262,264,276,277,278,279,280,281,282,283,284,285,286,287,288,289,290,304,306,325,326,329,341,368,371,384,385,389,390,391,393,394) have mixed types. Specify dtype option on import or set low_memory=False.\n",
      "  interactivity=interactivity, compiler=compiler, result=result)\n"
     ]
    }
   ],
   "source": [
    "import pandas as pd\n",
    "import numpy as np\n",
    "\n",
    "import matplotlib.pyplot as plt\n",
    "import seaborn as sns\n",
    "%matplotlib inline\n",
    "\n",
    "df = pd.read_csv('multipleChoiceResponses.csv')"
   ]
  },
  {
   "cell_type": "code",
   "execution_count": 32,
   "metadata": {},
   "outputs": [
    {
     "name": "stdout",
     "output_type": "stream",
     "text": [
      "Time from Start to Finish (seconds) Duration (in seconds)\n",
      "Q1 What is your gender? - Selected Choice\n",
      "Q1_OTHER_TEXT What is your gender? - Prefer to self-describe - Text\n",
      "Q2 What is your age (# years)?\n",
      "Q3 In which country do you currently reside?\n",
      "Q4 What is the highest level of formal education that you have attained or plan to attain within the next 2 years?\n",
      "Q5 Which best describes your undergraduate major? - Selected Choice\n",
      "Q6 Select the title most similar to your current role (or most recent title if retired): - Selected Choice\n",
      "Q6_OTHER_TEXT Select the title most similar to your current role (or most recent title if retired): - Other - Text\n",
      "Q7 In what industry is your current employer/contract (or your most recent employer if retired)? - Selected Choice\n",
      "Q7_OTHER_TEXT In what industry is your current employer/contract (or your most recent employer if retired)? - Other - Text\n",
      "Q8 How many years of experience do you have in your current role?\n",
      "Q9 What is your current yearly compensation (approximate $USD)?\n",
      "Q10 Does your current employer incorporate machine learning methods into their business?\n",
      "Q11_Part_1 Select any activities that make up an important part of your role at work: (Select all that apply) - Selected Choice - Analyze and understand data to influence product or business decisions\n",
      "Q11_Part_2 Select any activities that make up an important part of your role at work: (Select all that apply) - Selected Choice - Build and/or run a machine learning service that operationally improves my product or workflows\n",
      "Q11_Part_3 Select any activities that make up an important part of your role at work: (Select all that apply) - Selected Choice - Build and/or run the data infrastructure that my business uses for storing, analyzing, and operationalizing data\n",
      "Q11_Part_4 Select any activities that make up an important part of your role at work: (Select all that apply) - Selected Choice - Build prototypes to explore applying machine learning to new areas\n",
      "Q11_Part_5 Select any activities that make up an important part of your role at work: (Select all that apply) - Selected Choice - Do research that advances the state of the art of machine learning\n",
      "Q11_Part_6 Select any activities that make up an important part of your role at work: (Select all that apply) - Selected Choice - None of these activities are an important part of my role at work\n",
      "Q11_Part_7 Select any activities that make up an important part of your role at work: (Select all that apply) - Selected Choice - Other\n",
      "Q11_OTHER_TEXT Select any activities that make up an important part of your role at work: (Select all that apply) - Other - Text\n",
      "Q12_MULTIPLE_CHOICE What is the primary tool that you use at work or school to analyze data? (include text response) - Selected Choice\n",
      "Q12_Part_1_TEXT What is the primary tool that you use at work or school to analyze data? (include text response) - Basic statistical software (Microsoft Excel, Google Sheets, etc.) - Text\n",
      "Q12_Part_2_TEXT What is the primary tool that you use at work or school to analyze data? (include text response) - Advanced statistical software (SPSS, SAS, etc.) - Text\n",
      "Q12_Part_3_TEXT What is the primary tool that you use at work or school to analyze data? (include text response) - Business intelligence software (Salesforce, Tableau, Spotfire, etc.) - Text\n",
      "Q12_Part_4_TEXT What is the primary tool that you use at work or school to analyze data? (include text response) - Local or hosted development environments (RStudio, JupyterLab, etc.) - Text\n",
      "Q12_Part_5_TEXT What is the primary tool that you use at work or school to analyze data? (include text response) - Cloud-based data software & APIs (AWS, GCP, Azure, etc.) - Text\n",
      "Q12_OTHER_TEXT What is the primary tool that you use at work or school to analyze data? (include text response) - Other - Text\n",
      "Q13_Part_1 Which of the following integrated development environments (IDE's) have you used at work or school in the last 5 years? (Select all that apply) - Selected Choice - Jupyter/IPython\n",
      "Q13_Part_2 Which of the following integrated development environments (IDE's) have you used at work or school in the last 5 years? (Select all that apply) - Selected Choice - RStudio\n",
      "Q13_Part_3 Which of the following integrated development environments (IDE's) have you used at work or school in the last 5 years? (Select all that apply) - Selected Choice - PyCharm\n",
      "Q13_Part_4 Which of the following integrated development environments (IDE's) have you used at work or school in the last 5 years? (Select all that apply) - Selected Choice - Visual Studio Code\n",
      "Q13_Part_5 Which of the following integrated development environments (IDE's) have you used at work or school in the last 5 years? (Select all that apply) - Selected Choice - nteract\n",
      "Q13_Part_6 Which of the following integrated development environments (IDE's) have you used at work or school in the last 5 years? (Select all that apply) - Selected Choice - Atom\n",
      "Q13_Part_7 Which of the following integrated development environments (IDE's) have you used at work or school in the last 5 years? (Select all that apply) - Selected Choice - MATLAB\n",
      "Q13_Part_8 Which of the following integrated development environments (IDE's) have you used at work or school in the last 5 years? (Select all that apply) - Selected Choice - Visual Studio\n",
      "Q13_Part_9 Which of the following integrated development environments (IDE's) have you used at work or school in the last 5 years? (Select all that apply) - Selected Choice - Notepad++\n",
      "Q13_Part_10 Which of the following integrated development environments (IDE's) have you used at work or school in the last 5 years? (Select all that apply) - Selected Choice - Sublime Text\n",
      "Q13_Part_11 Which of the following integrated development environments (IDE's) have you used at work or school in the last 5 years? (Select all that apply) - Selected Choice - Vim\n",
      "Q13_Part_12 Which of the following integrated development environments (IDE's) have you used at work or school in the last 5 years? (Select all that apply) - Selected Choice - IntelliJ\n",
      "Q13_Part_13 Which of the following integrated development environments (IDE's) have you used at work or school in the last 5 years? (Select all that apply) - Selected Choice - Spyder\n",
      "Q13_Part_14 Which of the following integrated development environments (IDE's) have you used at work or school in the last 5 years? (Select all that apply) - Selected Choice - None\n",
      "Q13_Part_15 Which of the following integrated development environments (IDE's) have you used at work or school in the last 5 years? (Select all that apply) - Selected Choice - Other\n",
      "Q13_OTHER_TEXT Which of the following integrated development environments (IDE's) have you used at work or school in the last 5 years? (Select all that apply) - Other - Text\n",
      "Q14_Part_1 Which of the following hosted notebooks have you used at work or school in the last 5 years? (Select all that apply) - Selected Choice - Kaggle Kernels\n",
      "Q14_Part_2 Which of the following hosted notebooks have you used at work or school in the last 5 years? (Select all that apply) - Selected Choice - Google Colab\n",
      "Q14_Part_3 Which of the following hosted notebooks have you used at work or school in the last 5 years? (Select all that apply) - Selected Choice - Azure Notebook\n",
      "Q14_Part_4 Which of the following hosted notebooks have you used at work or school in the last 5 years? (Select all that apply) - Selected Choice - Domino Datalab\n",
      "Q14_Part_5 Which of the following hosted notebooks have you used at work or school in the last 5 years? (Select all that apply) - Selected Choice - Google Cloud Datalab\n",
      "Q14_Part_6 Which of the following hosted notebooks have you used at work or school in the last 5 years? (Select all that apply) - Selected Choice - Paperspace\n",
      "Q14_Part_7 Which of the following hosted notebooks have you used at work or school in the last 5 years? (Select all that apply) - Selected Choice - Floydhub\n",
      "Q14_Part_8 Which of the following hosted notebooks have you used at work or school in the last 5 years? (Select all that apply) - Selected Choice - Crestle\n",
      "Q14_Part_9 Which of the following hosted notebooks have you used at work or school in the last 5 years? (Select all that apply) - Selected Choice - JupyterHub/Binder\n",
      "Q14_Part_10 Which of the following hosted notebooks have you used at work or school in the last 5 years? (Select all that apply) - Selected Choice - None\n",
      "Q14_Part_11 Which of the following hosted notebooks have you used at work or school in the last 5 years? (Select all that apply) - Selected Choice - Other\n",
      "Q14_OTHER_TEXT Which of the following hosted notebooks have you used at work or school in the last 5 years? (Select all that apply) - Other - Text\n",
      "Q15_Part_1 Which of the following cloud computing services have you used at work or school in the last 5 years? (Select all that apply) - Selected Choice - Google Cloud Platform (GCP)\n",
      "Q15_Part_2 Which of the following cloud computing services have you used at work or school in the last 5 years? (Select all that apply) - Selected Choice - Amazon Web Services (AWS)\n",
      "Q15_Part_3 Which of the following cloud computing services have you used at work or school in the last 5 years? (Select all that apply) - Selected Choice - Microsoft Azure\n",
      "Q15_Part_4 Which of the following cloud computing services have you used at work or school in the last 5 years? (Select all that apply) - Selected Choice - IBM Cloud\n",
      "Q15_Part_5 Which of the following cloud computing services have you used at work or school in the last 5 years? (Select all that apply) - Selected Choice - Alibaba Cloud\n",
      "Q15_Part_6 Which of the following cloud computing services have you used at work or school in the last 5 years? (Select all that apply) - Selected Choice - I have not used any cloud providers\n",
      "Q15_Part_7 Which of the following cloud computing services have you used at work or school in the last 5 years? (Select all that apply) - Selected Choice - Other\n",
      "Q15_OTHER_TEXT Which of the following cloud computing services have you used at work or school in the last 5 years? (Select all that apply) - Other - Text\n",
      "Q16_Part_1 What programming languages do you use on a regular basis? (Select all that apply) - Selected Choice - Python\n",
      "Q16_Part_2 What programming languages do you use on a regular basis? (Select all that apply) - Selected Choice - R\n",
      "Q16_Part_3 What programming languages do you use on a regular basis? (Select all that apply) - Selected Choice - SQL\n",
      "Q16_Part_4 What programming languages do you use on a regular basis? (Select all that apply) - Selected Choice - Bash\n",
      "Q16_Part_5 What programming languages do you use on a regular basis? (Select all that apply) - Selected Choice - Java\n",
      "Q16_Part_6 What programming languages do you use on a regular basis? (Select all that apply) - Selected Choice - Javascript/Typescript\n",
      "Q16_Part_7 What programming languages do you use on a regular basis? (Select all that apply) - Selected Choice - Visual Basic/VBA\n",
      "Q16_Part_8 What programming languages do you use on a regular basis? (Select all that apply) - Selected Choice - C/C++\n",
      "Q16_Part_9 What programming languages do you use on a regular basis? (Select all that apply) - Selected Choice - MATLAB\n",
      "Q16_Part_10 What programming languages do you use on a regular basis? (Select all that apply) - Selected Choice - Scala\n",
      "Q16_Part_11 What programming languages do you use on a regular basis? (Select all that apply) - Selected Choice - Julia\n",
      "Q16_Part_12 What programming languages do you use on a regular basis? (Select all that apply) - Selected Choice - Go\n",
      "Q16_Part_13 What programming languages do you use on a regular basis? (Select all that apply) - Selected Choice - C#/.NET\n",
      "Q16_Part_14 What programming languages do you use on a regular basis? (Select all that apply) - Selected Choice - PHP\n",
      "Q16_Part_15 What programming languages do you use on a regular basis? (Select all that apply) - Selected Choice - Ruby\n",
      "Q16_Part_16 What programming languages do you use on a regular basis? (Select all that apply) - Selected Choice - SAS/STATA\n",
      "Q16_Part_17 What programming languages do you use on a regular basis? (Select all that apply) - Selected Choice - None\n",
      "Q16_Part_18 What programming languages do you use on a regular basis? (Select all that apply) - Selected Choice - Other\n",
      "Q16_OTHER_TEXT What programming languages do you use on a regular basis? (Select all that apply) - Other - Text\n",
      "Q17 What specific programming language do you use most often? - Selected Choice\n",
      "Q17_OTHER_TEXT What specific programming language do you use most often? - Other - Text\n",
      "Q18 What programming language would you recommend an aspiring data scientist to learn first? - Selected Choice\n",
      "Q18_OTHER_TEXT What programming language would you recommend an aspiring data scientist to learn first? - Other - Text\n",
      "Q19_Part_1 What machine learning frameworks have you used in the past 5 years? (Select all that apply) - Selected Choice - Scikit-Learn\n",
      "Q19_Part_2 What machine learning frameworks have you used in the past 5 years? (Select all that apply) - Selected Choice - TensorFlow\n",
      "Q19_Part_3 What machine learning frameworks have you used in the past 5 years? (Select all that apply) - Selected Choice - Keras\n",
      "Q19_Part_4 What machine learning frameworks have you used in the past 5 years? (Select all that apply) - Selected Choice - PyTorch\n",
      "Q19_Part_5 What machine learning frameworks have you used in the past 5 years? (Select all that apply) - Selected Choice - Spark MLlib\n",
      "Q19_Part_6 What machine learning frameworks have you used in the past 5 years? (Select all that apply) - Selected Choice - H20\n",
      "Q19_Part_7 What machine learning frameworks have you used in the past 5 years? (Select all that apply) - Selected Choice - Fastai\n",
      "Q19_Part_8 What machine learning frameworks have you used in the past 5 years? (Select all that apply) - Selected Choice - Mxnet\n",
      "Q19_Part_9 What machine learning frameworks have you used in the past 5 years? (Select all that apply) - Selected Choice - Caret\n",
      "Q19_Part_10 What machine learning frameworks have you used in the past 5 years? (Select all that apply) - Selected Choice - Xgboost\n",
      "Q19_Part_11 What machine learning frameworks have you used in the past 5 years? (Select all that apply) - Selected Choice - mlr\n",
      "Q19_Part_12 What machine learning frameworks have you used in the past 5 years? (Select all that apply) - Selected Choice - Prophet\n",
      "Q19_Part_13 What machine learning frameworks have you used in the past 5 years? (Select all that apply) - Selected Choice - randomForest\n",
      "Q19_Part_14 What machine learning frameworks have you used in the past 5 years? (Select all that apply) - Selected Choice - lightgbm\n",
      "Q19_Part_15 What machine learning frameworks have you used in the past 5 years? (Select all that apply) - Selected Choice - catboost\n",
      "Q19_Part_16 What machine learning frameworks have you used in the past 5 years? (Select all that apply) - Selected Choice - CNTK\n",
      "Q19_Part_17 What machine learning frameworks have you used in the past 5 years? (Select all that apply) - Selected Choice - Caffe\n",
      "Q19_Part_18 What machine learning frameworks have you used in the past 5 years? (Select all that apply) - Selected Choice - None\n",
      "Q19_Part_19 What machine learning frameworks have you used in the past 5 years? (Select all that apply) - Selected Choice - Other\n",
      "Q19_OTHER_TEXT What machine learning frameworks have you used in the past 5 years? (Select all that apply) - Other - Text\n",
      "Q20 Of the choices that you selected in the previous question, which ML library have you used the most? - Selected Choice\n",
      "Q20_OTHER_TEXT Of the choices that you selected in the previous question, which ML library have you used the most? - Other - Text\n",
      "Q21_Part_1 What data visualization libraries or tools have you used in the past 5 years? (Select all that apply) - Selected Choice - ggplot2\n",
      "Q21_Part_2 What data visualization libraries or tools have you used in the past 5 years? (Select all that apply) - Selected Choice - Matplotlib\n",
      "Q21_Part_3 What data visualization libraries or tools have you used in the past 5 years? (Select all that apply) - Selected Choice - Altair\n",
      "Q21_Part_4 What data visualization libraries or tools have you used in the past 5 years? (Select all that apply) - Selected Choice - Shiny\n",
      "Q21_Part_5 What data visualization libraries or tools have you used in the past 5 years? (Select all that apply) - Selected Choice - D3\n",
      "Q21_Part_6 What data visualization libraries or tools have you used in the past 5 years? (Select all that apply) - Selected Choice - Plotly\n",
      "Q21_Part_7 What data visualization libraries or tools have you used in the past 5 years? (Select all that apply) - Selected Choice - Bokeh\n",
      "Q21_Part_8 What data visualization libraries or tools have you used in the past 5 years? (Select all that apply) - Selected Choice - Seaborn\n",
      "Q21_Part_9 What data visualization libraries or tools have you used in the past 5 years? (Select all that apply) - Selected Choice - Geoplotlib\n",
      "Q21_Part_10 What data visualization libraries or tools have you used in the past 5 years? (Select all that apply) - Selected Choice - Leaflet\n",
      "Q21_Part_11 What data visualization libraries or tools have you used in the past 5 years? (Select all that apply) - Selected Choice - Lattice\n",
      "Q21_Part_12 What data visualization libraries or tools have you used in the past 5 years? (Select all that apply) - Selected Choice - None\n",
      "Q21_Part_13 What data visualization libraries or tools have you used in the past 5 years? (Select all that apply) - Selected Choice - Other\n",
      "Q21_OTHER_TEXT What data visualization libraries or tools have you used in the past 5 years? (Select all that apply) - Other - Text\n",
      "Q22 Of the choices that you selected in the previous question, which specific data visualization library or tool have you used the most? - Selected Choice\n",
      "Q22_OTHER_TEXT Of the choices that you selected in the previous question, which specific data visualization library or tool have you used the most? - Other - Text\n",
      "Q23 Approximately what percent of your time at work or school is spent actively coding?\n",
      "Q24 How long have you been writing code to analyze data?\n",
      "Q25 For how many years have you used machine learning methods (at work or in school)?\n",
      "Q26 Do you consider yourself to be a data scientist?\n",
      "Q27_Part_1 Which of the following cloud computing products have you used at work or school in the last 5 years (Select all that apply)? - Selected Choice - AWS Elastic Compute Cloud (EC2)\n",
      "Q27_Part_2 Which of the following cloud computing products have you used at work or school in the last 5 years (Select all that apply)? - Selected Choice - Google Compute Engine\n",
      "Q27_Part_3 Which of the following cloud computing products have you used at work or school in the last 5 years (Select all that apply)? - Selected Choice - AWS Elastic Beanstalk\n",
      "Q27_Part_4 Which of the following cloud computing products have you used at work or school in the last 5 years (Select all that apply)? - Selected Choice - Google App Engine\n",
      "Q27_Part_5 Which of the following cloud computing products have you used at work or school in the last 5 years (Select all that apply)? - Selected Choice - Google Kubernetes Engine\n",
      "Q27_Part_6 Which of the following cloud computing products have you used at work or school in the last 5 years (Select all that apply)? - Selected Choice - AWS Lambda\n",
      "Q27_Part_7 Which of the following cloud computing products have you used at work or school in the last 5 years (Select all that apply)? - Selected Choice - Google Cloud Functions\n",
      "Q27_Part_8 Which of the following cloud computing products have you used at work or school in the last 5 years (Select all that apply)? - Selected Choice - AWS Batch\n",
      "Q27_Part_9 Which of the following cloud computing products have you used at work or school in the last 5 years (Select all that apply)? - Selected Choice - Azure Virtual Machines\n",
      "Q27_Part_10 Which of the following cloud computing products have you used at work or school in the last 5 years (Select all that apply)? - Selected Choice - Azure Container Service\n",
      "Q27_Part_11 Which of the following cloud computing products have you used at work or school in the last 5 years (Select all that apply)? - Selected Choice - Azure Functions\n",
      "Q27_Part_12 Which of the following cloud computing products have you used at work or school in the last 5 years (Select all that apply)? - Selected Choice - Azure Event Grid\n",
      "Q27_Part_13 Which of the following cloud computing products have you used at work or school in the last 5 years (Select all that apply)? - Selected Choice - Azure Batch\n",
      "Q27_Part_14 Which of the following cloud computing products have you used at work or school in the last 5 years (Select all that apply)? - Selected Choice - Azure Kubernetes Service\n",
      "Q27_Part_15 Which of the following cloud computing products have you used at work or school in the last 5 years (Select all that apply)? - Selected Choice - IBM Cloud Virtual Servers\n",
      "Q27_Part_16 Which of the following cloud computing products have you used at work or school in the last 5 years (Select all that apply)? - Selected Choice - IBM Cloud Container Registry\n",
      "Q27_Part_17 Which of the following cloud computing products have you used at work or school in the last 5 years (Select all that apply)? - Selected Choice - IBM Cloud Kubernetes Service\n",
      "Q27_Part_18 Which of the following cloud computing products have you used at work or school in the last 5 years (Select all that apply)? - Selected Choice - IBM Cloud Foundry\n",
      "Q27_Part_19 Which of the following cloud computing products have you used at work or school in the last 5 years (Select all that apply)? - Selected Choice - None\n",
      "Q27_Part_20 Which of the following cloud computing products have you used at work or school in the last 5 years (Select all that apply)? - Selected Choice - Other\n",
      "Q27_OTHER_TEXT Which of the following cloud computing products have you used at work or school in the last 5 years (Select all that apply)? - Other - Text\n",
      "Q28_Part_1 Which of the following machine learning products have you used at work or school in the last 5 years? (Select all that apply) - Selected Choice - Amazon Transcribe\n",
      "Q28_Part_2 Which of the following machine learning products have you used at work or school in the last 5 years? (Select all that apply) - Selected Choice - Google Cloud Speech-to-text API\n",
      "Q28_Part_3 Which of the following machine learning products have you used at work or school in the last 5 years? (Select all that apply) - Selected Choice - Amazon Rekognition\n",
      "Q28_Part_4 Which of the following machine learning products have you used at work or school in the last 5 years? (Select all that apply) - Selected Choice - Google Cloud Vision API\n",
      "Q28_Part_5 Which of the following machine learning products have you used at work or school in the last 5 years? (Select all that apply) - Selected Choice - Amazon Comprehend\n",
      "Q28_Part_6 Which of the following machine learning products have you used at work or school in the last 5 years? (Select all that apply) - Selected Choice - Google Cloud Natural Language API\n",
      "Q28_Part_7 Which of the following machine learning products have you used at work or school in the last 5 years? (Select all that apply) - Selected Choice - Amazon Translate\n",
      "Q28_Part_8 Which of the following machine learning products have you used at work or school in the last 5 years? (Select all that apply) - Selected Choice - Google Cloud Translation API\n",
      "Q28_Part_9 Which of the following machine learning products have you used at work or school in the last 5 years? (Select all that apply) - Selected Choice - Amazon Lex\n",
      "Q28_Part_10 Which of the following machine learning products have you used at work or school in the last 5 years? (Select all that apply) - Selected Choice - Google Dialogflow Enterprise Edition\n",
      "Q28_Part_11 Which of the following machine learning products have you used at work or school in the last 5 years? (Select all that apply) - Selected Choice - Amazon Rekognition Video\n",
      "Q28_Part_12 Which of the following machine learning products have you used at work or school in the last 5 years? (Select all that apply) - Selected Choice - Google Cloud Video Intelligence API\n",
      "Q28_Part_13 Which of the following machine learning products have you used at work or school in the last 5 years? (Select all that apply) - Selected Choice - Google Cloud AutoML\n",
      "Q28_Part_14 Which of the following machine learning products have you used at work or school in the last 5 years? (Select all that apply) - Selected Choice - Amazon SageMaker\n",
      "Q28_Part_15 Which of the following machine learning products have you used at work or school in the last 5 years? (Select all that apply) - Selected Choice - Google Cloud Machine Learning Engine\n",
      "Q28_Part_16 Which of the following machine learning products have you used at work or school in the last 5 years? (Select all that apply) - Selected Choice - DataRobot\n",
      "Q28_Part_17 Which of the following machine learning products have you used at work or school in the last 5 years? (Select all that apply) - Selected Choice - H20 Driverless AI\n",
      "Q28_Part_18 Which of the following machine learning products have you used at work or school in the last 5 years? (Select all that apply) - Selected Choice - Domino Datalab\n",
      "Q28_Part_19 Which of the following machine learning products have you used at work or school in the last 5 years? (Select all that apply) - Selected Choice - SAS\n",
      "Q28_Part_20 Which of the following machine learning products have you used at work or school in the last 5 years? (Select all that apply) - Selected Choice - Dataiku\n",
      "Q28_Part_21 Which of the following machine learning products have you used at work or school in the last 5 years? (Select all that apply) - Selected Choice - RapidMiner\n",
      "Q28_Part_22 Which of the following machine learning products have you used at work or school in the last 5 years? (Select all that apply) - Selected Choice - Instabase\n",
      "Q28_Part_23 Which of the following machine learning products have you used at work or school in the last 5 years? (Select all that apply) - Selected Choice - Algorithmia\n",
      "Q28_Part_24 Which of the following machine learning products have you used at work or school in the last 5 years? (Select all that apply) - Selected Choice - Dataversity\n",
      "Q28_Part_25 Which of the following machine learning products have you used at work or school in the last 5 years? (Select all that apply) - Selected Choice - Cloudera\n",
      "Q28_Part_26 Which of the following machine learning products have you used at work or school in the last 5 years? (Select all that apply) - Selected Choice - Azure Machine Learning Studio\n",
      "Q28_Part_27 Which of the following machine learning products have you used at work or school in the last 5 years? (Select all that apply) - Selected Choice - Azure Machine Learning Workbench\n",
      "Q28_Part_28 Which of the following machine learning products have you used at work or school in the last 5 years? (Select all that apply) - Selected Choice - Azure Cortana Intelligence Suite\n",
      "Q28_Part_29 Which of the following machine learning products have you used at work or school in the last 5 years? (Select all that apply) - Selected Choice - Azure Bing Speech API\n",
      "Q28_Part_30 Which of the following machine learning products have you used at work or school in the last 5 years? (Select all that apply) - Selected Choice - Azure Speaker Recognition API\n",
      "Q28_Part_31 Which of the following machine learning products have you used at work or school in the last 5 years? (Select all that apply) - Selected Choice - Azure Computer Vision API\n",
      "Q28_Part_32 Which of the following machine learning products have you used at work or school in the last 5 years? (Select all that apply) - Selected Choice - Azure Face API\n",
      "Q28_Part_33 Which of the following machine learning products have you used at work or school in the last 5 years? (Select all that apply) - Selected Choice - Azure Video API\n",
      "Q28_Part_34 Which of the following machine learning products have you used at work or school in the last 5 years? (Select all that apply) - Selected Choice - IBM Watson Studio\n",
      "Q28_Part_35 Which of the following machine learning products have you used at work or school in the last 5 years? (Select all that apply) - Selected Choice - IBM Watson Knowledge Catalog\n",
      "Q28_Part_36 Which of the following machine learning products have you used at work or school in the last 5 years? (Select all that apply) - Selected Choice - IBM Watson Assistant\n",
      "Q28_Part_37 Which of the following machine learning products have you used at work or school in the last 5 years? (Select all that apply) - Selected Choice - IBM Watson Discovery\n",
      "Q28_Part_38 Which of the following machine learning products have you used at work or school in the last 5 years? (Select all that apply) - Selected Choice - IBM Watson Text to Speech\n",
      "Q28_Part_39 Which of the following machine learning products have you used at work or school in the last 5 years? (Select all that apply) - Selected Choice - IBM Watson Visual Recognition\n",
      "Q28_Part_40 Which of the following machine learning products have you used at work or school in the last 5 years? (Select all that apply) - Selected Choice - IBM Watson Machine Learning\n",
      "Q28_Part_41 Which of the following machine learning products have you used at work or school in the last 5 years? (Select all that apply) - Selected Choice - Azure Cognitive Services\n",
      "Q28_Part_42 Which of the following machine learning products have you used at work or school in the last 5 years? (Select all that apply) - Selected Choice - None\n",
      "Q28_Part_43 Which of the following machine learning products have you used at work or school in the last 5 years? (Select all that apply) - Selected Choice - Other\n",
      "Q28_OTHER_TEXT Which of the following machine learning products have you used at work or school in the last 5 years? (Select all that apply) - Other - Text\n",
      "Q29_Part_1 Which of the following relational database products have you used at work or school in the last 5 years? (Select all that apply) - Selected Choice - AWS Relational Database Service\n",
      "Q29_Part_2 Which of the following relational database products have you used at work or school in the last 5 years? (Select all that apply) - Selected Choice - AWS Aurora\n",
      "Q29_Part_3 Which of the following relational database products have you used at work or school in the last 5 years? (Select all that apply) - Selected Choice - Google Cloud SQL\n",
      "Q29_Part_4 Which of the following relational database products have you used at work or school in the last 5 years? (Select all that apply) - Selected Choice - Google Cloud Spanner\n",
      "Q29_Part_5 Which of the following relational database products have you used at work or school in the last 5 years? (Select all that apply) - Selected Choice - AWS DynamoDB\n",
      "Q29_Part_6 Which of the following relational database products have you used at work or school in the last 5 years? (Select all that apply) - Selected Choice - Google Cloud Datastore\n",
      "Q29_Part_7 Which of the following relational database products have you used at work or school in the last 5 years? (Select all that apply) - Selected Choice - Google Cloud Bigtable\n",
      "Q29_Part_8 Which of the following relational database products have you used at work or school in the last 5 years? (Select all that apply) - Selected Choice - AWS SimpleDB\n",
      "Q29_Part_9 Which of the following relational database products have you used at work or school in the last 5 years? (Select all that apply) - Selected Choice - Microsoft SQL Server\n",
      "Q29_Part_10 Which of the following relational database products have you used at work or school in the last 5 years? (Select all that apply) - Selected Choice - MySQL\n",
      "Q29_Part_11 Which of the following relational database products have you used at work or school in the last 5 years? (Select all that apply) - Selected Choice - PostgresSQL\n",
      "Q29_Part_12 Which of the following relational database products have you used at work or school in the last 5 years? (Select all that apply) - Selected Choice - SQLite\n",
      "Q29_Part_13 Which of the following relational database products have you used at work or school in the last 5 years? (Select all that apply) - Selected Choice - Oracle Database\n",
      "Q29_Part_14 Which of the following relational database products have you used at work or school in the last 5 years? (Select all that apply) - Selected Choice - Ingres\n",
      "Q29_Part_15 Which of the following relational database products have you used at work or school in the last 5 years? (Select all that apply) - Selected Choice - Microsoft Access\n",
      "Q29_Part_16 Which of the following relational database products have you used at work or school in the last 5 years? (Select all that apply) - Selected Choice - NexusDB\n",
      "Q29_Part_17 Which of the following relational database products have you used at work or school in the last 5 years? (Select all that apply) - Selected Choice - SAP IQ\n",
      "Q29_Part_18 Which of the following relational database products have you used at work or school in the last 5 years? (Select all that apply) - Selected Choice - Google Fusion Tables\n",
      "Q29_Part_19 Which of the following relational database products have you used at work or school in the last 5 years? (Select all that apply) - Selected Choice - Azure Database for MySQL\n",
      "Q29_Part_20 Which of the following relational database products have you used at work or school in the last 5 years? (Select all that apply) - Selected Choice - Azure Cosmos DB\n",
      "Q29_Part_21 Which of the following relational database products have you used at work or school in the last 5 years? (Select all that apply) - Selected Choice - Azure SQL Database\n",
      "Q29_Part_22 Which of the following relational database products have you used at work or school in the last 5 years? (Select all that apply) - Selected Choice - Azure Database for PostgreSQL\n",
      "Q29_Part_23 Which of the following relational database products have you used at work or school in the last 5 years? (Select all that apply) - Selected Choice - IBM Cloud Compose\n",
      "Q29_Part_24 Which of the following relational database products have you used at work or school in the last 5 years? (Select all that apply) - Selected Choice - IBM Cloud Compose for MySQL\n",
      "Q29_Part_25 Which of the following relational database products have you used at work or school in the last 5 years? (Select all that apply) - Selected Choice - IBM Cloud Compose for PostgreSQL\n",
      "Q29_Part_26 Which of the following relational database products have you used at work or school in the last 5 years? (Select all that apply) - Selected Choice - IBM Cloud Db2\n",
      "Q29_Part_27 Which of the following relational database products have you used at work or school in the last 5 years? (Select all that apply) - Selected Choice - None\n",
      "Q29_Part_28 Which of the following relational database products have you used at work or school in the last 5 years? (Select all that apply) - Selected Choice - Other\n",
      "Q29_OTHER_TEXT Which of the following relational database products have you used at work or school in the last 5 years? (Select all that apply) - Other - Text\n",
      "Q30_Part_1 Which of the following big data and analytics products have you used at work or school in the last 5 years? (Select all that apply) - Selected Choice - AWS Elastic MapReduce\n",
      "Q30_Part_2 Which of the following big data and analytics products have you used at work or school in the last 5 years? (Select all that apply) - Selected Choice - AWS Batch\n",
      "Q30_Part_3 Which of the following big data and analytics products have you used at work or school in the last 5 years? (Select all that apply) - Selected Choice - Google Cloud Dataproc\n",
      "Q30_Part_4 Which of the following big data and analytics products have you used at work or school in the last 5 years? (Select all that apply) - Selected Choice - Google Cloud Dataflow\n",
      "Q30_Part_5 Which of the following big data and analytics products have you used at work or school in the last 5 years? (Select all that apply) - Selected Choice - Google Cloud Dataprep\n",
      "Q30_Part_6 Which of the following big data and analytics products have you used at work or school in the last 5 years? (Select all that apply) - Selected Choice - AWS Kinesis\n",
      "Q30_Part_7 Which of the following big data and analytics products have you used at work or school in the last 5 years? (Select all that apply) - Selected Choice - Google Cloud Pub/Sub\n",
      "Q30_Part_8 Which of the following big data and analytics products have you used at work or school in the last 5 years? (Select all that apply) - Selected Choice - AWS Athena\n",
      "Q30_Part_9 Which of the following big data and analytics products have you used at work or school in the last 5 years? (Select all that apply) - Selected Choice - AWS Redshift\n",
      "Q30_Part_10 Which of the following big data and analytics products have you used at work or school in the last 5 years? (Select all that apply) - Selected Choice - Google BigQuery\n",
      "Q30_Part_11 Which of the following big data and analytics products have you used at work or school in the last 5 years? (Select all that apply) - Selected Choice - Teradata\n",
      "Q30_Part_12 Which of the following big data and analytics products have you used at work or school in the last 5 years? (Select all that apply) - Selected Choice - Microsoft Analysis Services\n",
      "Q30_Part_13 Which of the following big data and analytics products have you used at work or school in the last 5 years? (Select all that apply) - Selected Choice - Oracle Exadata\n",
      "Q30_Part_14 Which of the following big data and analytics products have you used at work or school in the last 5 years? (Select all that apply) - Selected Choice - Oracle Warehouse Builder\n",
      "Q30_Part_15 Which of the following big data and analytics products have you used at work or school in the last 5 years? (Select all that apply) - Selected Choice - SAP IQ\n",
      "Q30_Part_16 Which of the following big data and analytics products have you used at work or school in the last 5 years? (Select all that apply) - Selected Choice - Snowflake\n",
      "Q30_Part_17 Which of the following big data and analytics products have you used at work or school in the last 5 years? (Select all that apply) - Selected Choice - Databricks\n",
      "Q30_Part_18 Which of the following big data and analytics products have you used at work or school in the last 5 years? (Select all that apply) - Selected Choice - Azure SQL Data Warehouse\n",
      "Q30_Part_19 Which of the following big data and analytics products have you used at work or school in the last 5 years? (Select all that apply) - Selected Choice - Azure HDInsight\n",
      "Q30_Part_20 Which of the following big data and analytics products have you used at work or school in the last 5 years? (Select all that apply) - Selected Choice - Azure Stream Analytics\n",
      "Q30_Part_21 Which of the following big data and analytics products have you used at work or school in the last 5 years? (Select all that apply) - Selected Choice - IBM InfoSphere DataStorage\n",
      "Q30_Part_22 Which of the following big data and analytics products have you used at work or school in the last 5 years? (Select all that apply) - Selected Choice - IBM Cloud Analytics Engine\n",
      "Q30_Part_23 Which of the following big data and analytics products have you used at work or school in the last 5 years? (Select all that apply) - Selected Choice - IBM Cloud Streaming Analytics\n",
      "Q30_Part_24 Which of the following big data and analytics products have you used at work or school in the last 5 years? (Select all that apply) - Selected Choice - None\n",
      "Q30_Part_25 Which of the following big data and analytics products have you used at work or school in the last 5 years? (Select all that apply) - Selected Choice - Other\n",
      "Q30_OTHER_TEXT Which of the following big data and analytics products have you used at work or school in the last 5 years? (Select all that apply) - Other - Text\n",
      "Q31_Part_1 Which types of data do you currently interact with most often at work or school? (Select all that apply) - Selected Choice - Audio Data\n",
      "Q31_Part_2 Which types of data do you currently interact with most often at work or school? (Select all that apply) - Selected Choice - Categorical Data\n",
      "Q31_Part_3 Which types of data do you currently interact with most often at work or school? (Select all that apply) - Selected Choice - Genetic Data\n",
      "Q31_Part_4 Which types of data do you currently interact with most often at work or school? (Select all that apply) - Selected Choice - Geospatial Data\n",
      "Q31_Part_5 Which types of data do you currently interact with most often at work or school? (Select all that apply) - Selected Choice - Image Data\n",
      "Q31_Part_6 Which types of data do you currently interact with most often at work or school? (Select all that apply) - Selected Choice - Numerical Data\n",
      "Q31_Part_7 Which types of data do you currently interact with most often at work or school? (Select all that apply) - Selected Choice - Sensor Data\n",
      "Q31_Part_8 Which types of data do you currently interact with most often at work or school? (Select all that apply) - Selected Choice - Tabular Data\n",
      "Q31_Part_9 Which types of data do you currently interact with most often at work or school? (Select all that apply) - Selected Choice - Text Data\n",
      "Q31_Part_10 Which types of data do you currently interact with most often at work or school? (Select all that apply) - Selected Choice - Time Series Data\n",
      "Q31_Part_11 Which types of data do you currently interact with most often at work or school? (Select all that apply) - Selected Choice - Video Data\n",
      "Q31_Part_12 Which types of data do you currently interact with most often at work or school? (Select all that apply) - Selected Choice - Other Data\n",
      "Q31_OTHER_TEXT Which types of data do you currently interact with most often at work or school? (Select all that apply) - Other Data - Text\n",
      "Q32 What is the type of data that you currently interact with most often at work or school? - Selected Choice\n",
      "Q32_OTHER What is the type of data that you currently interact with most often at work or school? - Other Data - Text\n",
      "Q33_Part_1 Where do you find public datasets? (Select all that apply) - Selected Choice - Government websites\n",
      "Q33_Part_2 Where do you find public datasets? (Select all that apply) - Selected Choice - University research group websites\n",
      "Q33_Part_3 Where do you find public datasets? (Select all that apply) - Selected Choice - Non-profit research group websites\n",
      "Q33_Part_4 Where do you find public datasets? (Select all that apply) - Selected Choice - Dataset aggregator/platform (Socrata, Kaggle Public Datasets Platform, etc.)\n",
      "Q33_Part_5 Where do you find public datasets? (Select all that apply) - Selected Choice - I collect my own data (web-scraping, etc.)\n",
      "Q33_Part_6 Where do you find public datasets? (Select all that apply) - Selected Choice - Publicly released data from private companies\n",
      "Q33_Part_7 Where do you find public datasets? (Select all that apply) - Selected Choice - Google Search\n",
      "Q33_Part_8 Where do you find public datasets? (Select all that apply) - Selected Choice - Google Dataset Search\n",
      "Q33_Part_9 Where do you find public datasets? (Select all that apply) - Selected Choice - GitHub\n",
      "Q33_Part_10 Where do you find public datasets? (Select all that apply) - Selected Choice - None/I do not work with public data\n",
      "Q33_Part_11 Where do you find public datasets? (Select all that apply) - Selected Choice - Other\n",
      "Q33_OTHER_TEXT Where do you find public datasets? (Select all that apply) - Other - Text\n",
      "Q34_Part_1 During a typical data science project at work or school, approximately what proportion of your time is devoted to the following? (Answers must add up to 100%) - Gathering data\n",
      "Q34_Part_2 During a typical data science project at work or school, approximately what proportion of your time is devoted to the following? (Answers must add up to 100%) - Cleaning data\n",
      "Q34_Part_3 During a typical data science project at work or school, approximately what proportion of your time is devoted to the following? (Answers must add up to 100%) - Visualizing data\n",
      "Q34_Part_4 During a typical data science project at work or school, approximately what proportion of your time is devoted to the following? (Answers must add up to 100%) - Model building/model selection\n",
      "Q34_Part_5 During a typical data science project at work or school, approximately what proportion of your time is devoted to the following? (Answers must add up to 100%) - Putting the model into production\n",
      "Q34_Part_6 During a typical data science project at work or school, approximately what proportion of your time is devoted to the following? (Answers must add up to 100%) - Finding insights in the data and communicating with stakeholders\n",
      "Q34_OTHER_TEXT During a typical data science project at work or school, approximately what proportion of your time is devoted to the following? (Answers must add up to 100%) - Other\n",
      "Q35_Part_1 What percentage of your current machine learning/data science training falls under each category? (Answers must add up to 100%) - Self-taught\n",
      "Q35_Part_2 What percentage of your current machine learning/data science training falls under each category? (Answers must add up to 100%) - Online courses (Coursera, Udemy, edX, etc.)\n",
      "Q35_Part_3 What percentage of your current machine learning/data science training falls under each category? (Answers must add up to 100%) - Work\n",
      "Q35_Part_4 What percentage of your current machine learning/data science training falls under each category? (Answers must add up to 100%) - University\n",
      "Q35_Part_5 What percentage of your current machine learning/data science training falls under each category? (Answers must add up to 100%) - Kaggle competitions\n",
      "Q35_Part_6 What percentage of your current machine learning/data science training falls under each category? (Answers must add up to 100%) - Other\n",
      "Q35_OTHER_TEXT What percentage of your current machine learning/data science training falls under each category? (Answers must add up to 100%) - Other - Text\n",
      "Q36_Part_1 On which online platforms have you begun or completed data science courses? (Select all that apply) - Selected Choice - Udacity\n",
      "Q36_Part_2 On which online platforms have you begun or completed data science courses? (Select all that apply) - Selected Choice - Coursera\n",
      "Q36_Part_3 On which online platforms have you begun or completed data science courses? (Select all that apply) - Selected Choice - edX\n",
      "Q36_Part_4 On which online platforms have you begun or completed data science courses? (Select all that apply) - Selected Choice - DataCamp\n",
      "Q36_Part_5 On which online platforms have you begun or completed data science courses? (Select all that apply) - Selected Choice - DataQuest\n",
      "Q36_Part_6 On which online platforms have you begun or completed data science courses? (Select all that apply) - Selected Choice - Kaggle Learn\n",
      "Q36_Part_7 On which online platforms have you begun or completed data science courses? (Select all that apply) - Selected Choice - Fast.AI\n",
      "Q36_Part_8 On which online platforms have you begun or completed data science courses? (Select all that apply) - Selected Choice - developers.google.com\n",
      "Q36_Part_9 On which online platforms have you begun or completed data science courses? (Select all that apply) - Selected Choice - Udemy\n",
      "Q36_Part_10 On which online platforms have you begun or completed data science courses? (Select all that apply) - Selected Choice - TheSchool.AI\n",
      "Q36_Part_11 On which online platforms have you begun or completed data science courses? (Select all that apply) - Selected Choice - Online University Courses\n",
      "Q36_Part_12 On which online platforms have you begun or completed data science courses? (Select all that apply) - Selected Choice - None\n",
      "Q36_Part_13 On which online platforms have you begun or completed data science courses? (Select all that apply) - Selected Choice - Other\n",
      "Q36_OTHER_TEXT On which online platforms have you begun or completed data science courses? (Select all that apply) - Other - Text\n",
      "Q37 On which online platform have you spent the most amount of time? - Selected Choice\n",
      "Q37_OTHER_TEXT On which online platform have you spent the most amount of time? - Other - Text\n",
      "Q38_Part_1 Who/what are your favorite media sources that report on data science topics? (Select all that apply) - Selected Choice - Twitter\n",
      "Q38_Part_2 Who/what are your favorite media sources that report on data science topics? (Select all that apply) - Selected Choice - Hacker News\n",
      "Q38_Part_3 Who/what are your favorite media sources that report on data science topics? (Select all that apply) - Selected Choice - r/machinelearning\n",
      "Q38_Part_4 Who/what are your favorite media sources that report on data science topics? (Select all that apply) - Selected Choice - Kaggle forums\n",
      "Q38_Part_5 Who/what are your favorite media sources that report on data science topics? (Select all that apply) - Selected Choice - Fastai forums\n",
      "Q38_Part_6 Who/what are your favorite media sources that report on data science topics? (Select all that apply) - Selected Choice - Siraj Raval YouTube Channel\n",
      "Q38_Part_7 Who/what are your favorite media sources that report on data science topics? (Select all that apply) - Selected Choice - DataTau News Aggregator\n",
      "Q38_Part_8 Who/what are your favorite media sources that report on data science topics? (Select all that apply) - Selected Choice - Linear Digressions Podcast\n",
      "Q38_Part_9 Who/what are your favorite media sources that report on data science topics? (Select all that apply) - Selected Choice - Cloud AI Adventures (YouTube)\n",
      "Q38_Part_10 Who/what are your favorite media sources that report on data science topics? (Select all that apply) - Selected Choice - FiveThirtyEight.com\n",
      "Q38_Part_11 Who/what are your favorite media sources that report on data science topics? (Select all that apply) - Selected Choice - ArXiv & Preprints\n",
      "Q38_Part_12 Who/what are your favorite media sources that report on data science topics? (Select all that apply) - Selected Choice - Journal Publications\n",
      "Q38_Part_13 Who/what are your favorite media sources that report on data science topics? (Select all that apply) - Selected Choice - FastML Blog\n",
      "Q38_Part_14 Who/what are your favorite media sources that report on data science topics? (Select all that apply) - Selected Choice - KDnuggets Blog\n",
      "Q38_Part_15 Who/what are your favorite media sources that report on data science topics? (Select all that apply) - Selected Choice - O'Reilly Data Newsletter\n",
      "Q38_Part_16 Who/what are your favorite media sources that report on data science topics? (Select all that apply) - Selected Choice - Partially Derivative Podcast\n",
      "Q38_Part_17 Who/what are your favorite media sources that report on data science topics? (Select all that apply) - Selected Choice - The Data Skeptic Podcast\n",
      "Q38_Part_18 Who/what are your favorite media sources that report on data science topics? (Select all that apply) - Selected Choice - Medium Blog Posts\n",
      "Q38_Part_19 Who/what are your favorite media sources that report on data science topics? (Select all that apply) - Selected Choice - Towards Data Science Blog\n",
      "Q38_Part_20 Who/what are your favorite media sources that report on data science topics? (Select all that apply) - Selected Choice - Analytics Vidhya Blog\n",
      "Q38_Part_21 Who/what are your favorite media sources that report on data science topics? (Select all that apply) - Selected Choice - None/I do not know\n",
      "Q38_Part_22 Who/what are your favorite media sources that report on data science topics? (Select all that apply) - Selected Choice - Other\n",
      "Q38_OTHER_TEXT Who/what are your favorite media sources that report on data science topics? (Select all that apply) - Other - Text\n",
      "Q39_Part_1 How do you perceive the quality of online learning platforms and in-person bootcamps as compared to the quality of the education provided by traditional brick and mortar institutions? - Online learning platforms and MOOCs:\n",
      "Q39_Part_2 How do you perceive the quality of online learning platforms and in-person bootcamps as compared to the quality of the education provided by traditional brick and mortar institutions? - In-person bootcamps:\n",
      "Q40 Which better demonstrates expertise in data science: academic achievements or independent projects? - Your views:\n",
      "Q41_Part_1 How do you perceive the importance of the following topics? - Fairness and bias in ML algorithms:\n",
      "Q41_Part_2 How do you perceive the importance of the following topics? - Being able to explain ML model outputs and/or predictions\n",
      "Q41_Part_3 How do you perceive the importance of the following topics? - Reproducibility in data science\n",
      "Q42_Part_1 What metrics do you or your organization use to determine whether or not your models were successful? (Select all that apply) - Selected Choice - Revenue and/or business goals\n",
      "Q42_Part_2 What metrics do you or your organization use to determine whether or not your models were successful? (Select all that apply) - Selected Choice - Metrics that consider accuracy\n",
      "Q42_Part_3 What metrics do you or your organization use to determine whether or not your models were successful? (Select all that apply) - Selected Choice - Metrics that consider unfair bias\n",
      "Q42_Part_4 What metrics do you or your organization use to determine whether or not your models were successful? (Select all that apply) - Selected Choice - Not applicable (I am not involved with an organization that builds ML models)\n",
      "Q42_Part_5 What metrics do you or your organization use to determine whether or not your models were successful? (Select all that apply) - Selected Choice - Other\n",
      "Q42_OTHER_TEXT What metrics do you or your organization use to determine whether or not your models were successful? (Select all that apply) - Other - Text\n",
      "Q43 Approximately what percent of your data projects involved exploring unfair bias in the dataset and/or algorithm?\n",
      "Q44_Part_1 What do you find most difficult about ensuring that your algorithms are fair and unbiased? (Select all that apply) - Lack of communication between individuals who collect the data and individuals who analyze the data\n",
      "Q44_Part_2 What do you find most difficult about ensuring that your algorithms are fair and unbiased? (Select all that apply) - Difficulty in identifying groups that are unfairly targeted\n",
      "Q44_Part_3 What do you find most difficult about ensuring that your algorithms are fair and unbiased? (Select all that apply) - Difficulty in collecting enough data about groups that may be unfairly targeted\n",
      "Q44_Part_4 What do you find most difficult about ensuring that your algorithms are fair and unbiased? (Select all that apply) - Difficulty in identifying and selecting the appropriate evaluation metrics\n",
      "Q44_Part_5 What do you find most difficult about ensuring that your algorithms are fair and unbiased? (Select all that apply) - I have never found any difficulty in this task\n",
      "Q44_Part_6 What do you find most difficult about ensuring that your algorithms are fair and unbiased? (Select all that apply) - I have never performed this task\n",
      "Q45_Part_1 In what circumstances would you explore model insights and interpret your model's predictions? (Select all that apply) - Only for very important models that are already in production\n",
      "Q45_Part_2 In what circumstances would you explore model insights and interpret your model's predictions? (Select all that apply) - For all models right before putting the model in production\n",
      "Q45_Part_3 In what circumstances would you explore model insights and interpret your model's predictions? (Select all that apply) - When determining whether it is worth it to put the model into production\n",
      "Q45_Part_4 In what circumstances would you explore model insights and interpret your model's predictions? (Select all that apply) - When building a model that was specifically designed to produce such insights\n",
      "Q45_Part_5 In what circumstances would you explore model insights and interpret your model's predictions? (Select all that apply) - When first exploring a new ML model or dataset\n",
      "Q45_Part_6 In what circumstances would you explore model insights and interpret your model's predictions? (Select all that apply) - I do not explore and interpret model insights and predictions\n",
      "Q46 Approximately what percent of your data projects involve exploring model insights?\n",
      "Q47_Part_1 What methods do you prefer for explaining and/or interpreting decisions that are made by ML models? (Select all that apply) - Selected Choice - Examine individual model coefficients\n",
      "Q47_Part_2 What methods do you prefer for explaining and/or interpreting decisions that are made by ML models? (Select all that apply) - Selected Choice - Examine feature correlations\n",
      "Q47_Part_3 What methods do you prefer for explaining and/or interpreting decisions that are made by ML models? (Select all that apply) - Selected Choice - Examine feature importances\n",
      "Q47_Part_4 What methods do you prefer for explaining and/or interpreting decisions that are made by ML models? (Select all that apply) - Selected Choice - Plot decision boundaries\n",
      "Q47_Part_5 What methods do you prefer for explaining and/or interpreting decisions that are made by ML models? (Select all that apply) - Selected Choice - Create partial dependence plots\n",
      "Q47_Part_6 What methods do you prefer for explaining and/or interpreting decisions that are made by ML models? (Select all that apply) - Selected Choice - Dimensionality reduction techniques\n",
      "Q47_Part_7 What methods do you prefer for explaining and/or interpreting decisions that are made by ML models? (Select all that apply) - Selected Choice - Attention mapping/saliency mapping\n",
      "Q47_Part_8 What methods do you prefer for explaining and/or interpreting decisions that are made by ML models? (Select all that apply) - Selected Choice - Plot predicted vs. actual results\n",
      "Q47_Part_9 What methods do you prefer for explaining and/or interpreting decisions that are made by ML models? (Select all that apply) - Selected Choice - Print out a decision tree\n",
      "Q47_Part_10 What methods do you prefer for explaining and/or interpreting decisions that are made by ML models? (Select all that apply) - Selected Choice - Sensitivity analysis/perturbation importance\n",
      "Q47_Part_11 What methods do you prefer for explaining and/or interpreting decisions that are made by ML models? (Select all that apply) - Selected Choice - LIME functions\n",
      "Q47_Part_12 What methods do you prefer for explaining and/or interpreting decisions that are made by ML models? (Select all that apply) - Selected Choice - ELI5 functions\n",
      "Q47_Part_13 What methods do you prefer for explaining and/or interpreting decisions that are made by ML models? (Select all that apply) - Selected Choice - SHAP functions\n",
      "Q47_Part_14 What methods do you prefer for explaining and/or interpreting decisions that are made by ML models? (Select all that apply) - Selected Choice - None/I do not use these model explanation techniques\n",
      "Q47_Part_15 What methods do you prefer for explaining and/or interpreting decisions that are made by ML models? (Select all that apply) - Selected Choice - Other\n",
      "Q47_Part_16 What methods do you prefer for explaining and/or interpreting decisions that are made by ML models? (Select all that apply) - Other - Text\n",
      "Q48 Do you consider ML models to be \"black boxes\" with outputs that are difficult or impossible to explain?\n",
      "Q49_Part_1 What tools and methods do you use to make your work easy to reproduce? (Select all that apply) - Selected Choice - Share code on Github or a similar code-sharing repository\n",
      "Q49_Part_2 What tools and methods do you use to make your work easy to reproduce? (Select all that apply) - Selected Choice - Share both data and code on Github or a similar code-sharing repository\n",
      "Q49_Part_3 What tools and methods do you use to make your work easy to reproduce? (Select all that apply) - Selected Choice - Share data, code, and environment using a hosted service (Kaggle Kernels, Google Colaboratory, Amazon SageMaker, etc.)\n",
      "Q49_Part_4 What tools and methods do you use to make your work easy to reproduce? (Select all that apply) - Selected Choice - Share data, code, and environment using containers (Docker, etc.)\n",
      "Q49_Part_5 What tools and methods do you use to make your work easy to reproduce? (Select all that apply) - Selected Choice - Share code, data, and environment using virtual machines (VirtualBox, etc.)\n",
      "Q49_Part_6 What tools and methods do you use to make your work easy to reproduce? (Select all that apply) - Selected Choice - Make sure the code is well documented\n",
      "Q49_Part_7 What tools and methods do you use to make your work easy to reproduce? (Select all that apply) - Selected Choice - Make sure the code is human-readable\n",
      "Q49_Part_8 What tools and methods do you use to make your work easy to reproduce? (Select all that apply) - Selected Choice - Define all random seeds\n",
      "Q49_Part_9 What tools and methods do you use to make your work easy to reproduce? (Select all that apply) - Selected Choice - Define relative rather than absolute file paths\n",
      "Q49_Part_10 What tools and methods do you use to make your work easy to reproduce? (Select all that apply) - Selected Choice - Include a text file describing all dependencies\n",
      "Q49_Part_11 What tools and methods do you use to make your work easy to reproduce? (Select all that apply) - Selected Choice - None/I do not make my work easy for others to reproduce\n",
      "Q49_Part_12 What tools and methods do you use to make your work easy to reproduce? (Select all that apply) - Selected Choice - Other\n",
      "Q49_OTHER_TEXT What tools and methods do you use to make your work easy to reproduce? (Select all that apply) - Other - Text\n",
      "Q50_Part_1 What barriers prevent you from making your work even easier to reuse and reproduce? (Select all that apply) - Selected Choice - Too expensive\n",
      "Q50_Part_2 What barriers prevent you from making your work even easier to reuse and reproduce? (Select all that apply) - Selected Choice - Too time-consuming\n",
      "Q50_Part_3 What barriers prevent you from making your work even easier to reuse and reproduce? (Select all that apply) - Selected Choice - Requires too much technical knowledge\n",
      "Q50_Part_4 What barriers prevent you from making your work even easier to reuse and reproduce? (Select all that apply) - Selected Choice - Afraid that others will use my work without giving proper credit\n",
      "Q50_Part_5 What barriers prevent you from making your work even easier to reuse and reproduce? (Select all that apply) - Selected Choice - Not enough incentives to share my work\n",
      "Q50_Part_6 What barriers prevent you from making your work even easier to reuse and reproduce? (Select all that apply) - Selected Choice - I had never considered making my work easier for others to reproduce\n",
      "Q50_Part_7 What barriers prevent you from making your work even easier to reuse and reproduce? (Select all that apply) - Selected Choice - None of these reasons apply to me\n",
      "Q50_Part_8 What barriers prevent you from making your work even easier to reuse and reproduce? (Select all that apply) - Selected Choice - Other\n",
      "Q50_OTHER_TEXT What barriers prevent you from making your work even easier to reuse and reproduce? (Select all that apply) - Other - Text\n"
     ]
    }
   ],
   "source": [
    "for col in df.columns:\n",
    "    print(col,df.at[0,col])"
   ]
  },
  {
   "cell_type": "code",
   "execution_count": null,
   "metadata": {},
   "outputs": [],
   "source": [
    "df.drop([0],inplace=True)\n",
    "df.head()"
   ]
  },
  {
   "cell_type": "code",
   "execution_count": 3,
   "metadata": {},
   "outputs": [
    {
     "name": "stdout",
     "output_type": "stream",
     "text": [
      "16\n",
      "885639\n",
      "41770\n",
      "83264\n"
     ]
    },
    {
     "data": {
      "image/png": "[encoded data removed]",
      "text/plain": [
       "<Figure size 432x288 with 1 Axes>"
      ]
     },
     "metadata": {},
     "output_type": "display_data"
    }
   ],
   "source": [
    "df['Time'] = df['Time from Start to Finish (seconds)'].apply(int)\n",
    "df_time = df['Time']\n",
    "df_time.head()\n",
    "time_min = df_time.unique().min()\n",
    "time_max = df_time.unique().max()\n",
    "time_mean = df_time.unique().mean()\n",
    "time_std = df_time.unique().std()\n",
    "print(time_min)\n",
    "print(time_max)\n",
    "print(int(time_mean))\n",
    "print(int(time_std))\n",
    "\n",
    "\n",
    "ax1 = plt.xlim(0,40000)\n",
    "ax1 = plt.ylim(0,2000)\n",
    "ax1 = plt.hist(df_time,bins=500)"
   ]
  },
  {
   "cell_type": "code",
   "execution_count": 4,
   "metadata": {},
   "outputs": [
    {
     "data": {
      "image/png": "[encoded data removed]",
      "text/plain": [
       "<Figure size 432x288 with 1 Axes>"
      ]
     },
     "metadata": {},
     "output_type": "display_data"
    }
   ],
   "source": [
    "df_fast = df[df['Time']<1800]['Time']\n",
    "\n",
    "ax2 = plt.hist(df_fast,bins=30)"
   ]
  },
  {
   "cell_type": "code",
   "execution_count": 5,
   "metadata": {},
   "outputs": [
    {
     "data": {
      "image/png": "[encoded data removed]",
      "text/plain": [
       "<Figure size 432x288 with 1 Axes>"
      ]
     },
     "metadata": {},
     "output_type": "display_data"
    }
   ],
   "source": [
    "df_super_fast = df[df['Time']<250]['Time']\n",
    "\n",
    "ax3 = plt.hist(df_super_fast,bins=25)"
   ]
  },
  {
   "cell_type": "code",
   "execution_count": 6,
   "metadata": {},
   "outputs": [
    {
     "name": "stdout",
     "output_type": "stream",
     "text": [
      "(23859, 396)\n",
      "(387, 396)\n"
     ]
    }
   ],
   "source": [
    "print(df.shape)\n",
    "print(df[df['Time']<60].shape)"
   ]
  },
  {
   "cell_type": "code",
   "execution_count": 7,
   "metadata": {},
   "outputs": [
    {
     "name": "stdout",
     "output_type": "stream",
     "text": [
      "(23463, 396)\n"
     ]
    }
   ],
   "source": [
    "# Rejecting those who answered questions too fast:\n",
    "df = df[df['Time']>60]\n",
    "print(df.shape)"
   ]
  },
  {
   "cell_type": "code",
   "execution_count": 8,
   "metadata": {},
   "outputs": [],
   "source": [
    "# SALARY"
   ]
  },
  {
   "cell_type": "code",
   "execution_count": 9,
   "metadata": {},
   "outputs": [],
   "source": [
    "def rename_some_salaries(salary):\n",
    "    salary_new=salary\n",
    "    if (salary!=salary): salary_new='-1'\n",
    "    elif (salary=='I do not wish to disclose my approximate yearly compensation'): salary_new='secret'\n",
    "    return salary_new"
   ]
  },
  {
   "cell_type": "code",
   "execution_count": 10,
   "metadata": {},
   "outputs": [
    {
     "name": "stdout",
     "output_type": "stream",
     "text": [
      "[nan '10-20,000' '0-10,000'\n",
      " 'I do not wish to disclose my approximate yearly compensation'\n",
      " '20-30,000' '125-150,000' '30-40,000' '50-60,000' '100-125,000'\n",
      " '90-100,000' '70-80,000' '80-90,000' '60-70,000' '400-500,000'\n",
      " '40-50,000' '150-200,000' '500,000+' '300-400,000' '200-250,000'\n",
      " '250-300,000']\n",
      "['-1' '10-20,000' '0-10,000' 'secret' '20-30,000' '125-150,000'\n",
      " '30-40,000' '50-60,000' '100-125,000' '90-100,000' '70-80,000'\n",
      " '80-90,000' '60-70,000' '400-500,000' '40-50,000' '150-200,000'\n",
      " '500,000+' '300-400,000' '200-250,000' '250-300,000']\n"
     ]
    }
   ],
   "source": [
    "print(df['Q9'].unique())\n",
    "df['Q9']=df['Q9'].apply(lambda x: rename_some_salaries(x))\n",
    "print(df['Q9'].unique())"
   ]
  },
  {
   "cell_type": "code",
   "execution_count": 11,
   "metadata": {},
   "outputs": [
    {
     "name": "stdout",
     "output_type": "stream",
     "text": [
      "['10-20,000' '0-10,000' '20-30,000' '125-150,000' '30-40,000' '50-60,000'\n",
      " '100-125,000' '90-100,000' '70-80,000' '80-90,000' '60-70,000'\n",
      " '400-500,000' '40-50,000' '150-200,000' '500,000+' '300-400,000'\n",
      " '200-250,000' '250-300,000']\n",
      "\n",
      "df.shape = (15423, 396)\n"
     ]
    }
   ],
   "source": [
    "df = df[(df['Q9']!='-1') & (df['Q9']!='secret')]\n",
    "print(df['Q9'].unique())\n",
    "print('')\n",
    "print('df.shape =',df.shape)"
   ]
  },
  {
   "cell_type": "code",
   "execution_count": 12,
   "metadata": {},
   "outputs": [
    {
     "name": "stdout",
     "output_type": "stream",
     "text": [
      "['10-20,000' '0-10,000' '20-30,000' '125-150,000' '30-40,000' '50-60,000'\n",
      " '100-125,000' '90-100,000' '70-80,000' '80-90,000' '60-70,000'\n",
      " '400-500,000' '40-50,000' '150-200,000' '500,000+' '300-400,000'\n",
      " '200-250,000' '250-300,000']\n",
      "(15423,)\n"
     ]
    },
    {
     "data": {
      "text/plain": [
       "array(['10-20,000', '0-10,000', '20-30,000', '125-150,000', '30-40,000',\n",
       "       '50-60,000', '100-125,000', '90-100,000', '70-80,000', '80-90,000',\n",
       "       '60-70,000', '400-500,000', '40-50,000', '150-200,000', '500,000+',\n",
       "       '300-400,000', '200-250,000', '250-300,000'], dtype=object)"
      ]
     },
     "execution_count": 12,
     "metadata": {},
     "output_type": "execute_result"
    }
   ],
   "source": [
    "# somewhere plot how many many people have nan and don't want to disclose salary, then drop them\n",
    "\n",
    "print(df['Q9'].unique())\n",
    "df_salary = df[['Q9']]\n",
    "print(df_salary['Q9'].shape)\n",
    "df_salary['Q9'].unique()"
   ]
  },
  {
   "cell_type": "code",
   "execution_count": 13,
   "metadata": {},
   "outputs": [],
   "source": [
    "all_salaries = ['0-10,000','10-20,000','20-30,000','30-40,000','40-50,000','50-60,000','60-70,000',\n",
    "                       '70-80,000','80-90,000','90-100,000','100-125,000','125-150,000','150-200,000',\n",
    "                       '200-250,000','250-300,000','300-400,000','400-500,000','500,000+']"
   ]
  },
  {
   "cell_type": "code",
   "execution_count": 14,
   "metadata": {},
   "outputs": [],
   "source": [
    "def order_subset(subset,whole_set):\n",
    "    ordered = ['']*len(subset)\n",
    "    i = 0\n",
    "    for s in whole_set:\n",
    "        if s in subset:\n",
    "            ordered[i]=s\n",
    "            i = i+1\n",
    "    return ordered"
   ]
  },
  {
   "cell_type": "code",
   "execution_count": 15,
   "metadata": {},
   "outputs": [
    {
     "name": "stdout",
     "output_type": "stream",
     "text": [
      "['0-10,000', '10-20,000', '500,000+']\n",
      "[]\n",
      "['']\n"
     ]
    }
   ],
   "source": [
    "subset = ['10-20,000','500,000+','0-10,000']\n",
    "print(order_subset(subset,all_salaries))\n",
    "subset = []\n",
    "print(order_subset(subset,all_salaries))\n",
    "subset = ['hg']\n",
    "print(order_subset(subset,all_salaries))"
   ]
  },
  {
   "cell_type": "code",
   "execution_count": 16,
   "metadata": {},
   "outputs": [
    {
     "name": "stdout",
     "output_type": "stream",
     "text": [
      "\n",
      "\n",
      "p = 0.5\n",
      "1 United States of America 3391\n",
      "2 India 2320\n",
      "3 China 870\n",
      "4 Russia 581\n",
      "5 Brazil 557\n",
      "\n",
      "p = 1.1\n",
      "1 United States of America 3391\n",
      "2 India 2320\n",
      "3 China 870\n",
      "4 Russia 581\n",
      "5 Brazil 557\n",
      "6 Germany 506\n",
      "7 United Kingdom of Great Britain and Northern Ireland 495\n",
      "8 Canada 441\n",
      "9 France 422\n",
      "10 Japan 411\n",
      "11 Spain 364\n",
      "12 Italy 244\n",
      "13 Australia 232\n",
      "14 Poland 214\n",
      "15 Turkey 199\n",
      "16 Netherlands 193\n",
      "17 Ukraine 165\n",
      "18 Mexico 152\n",
      "19 Singapore 132\n",
      "20 Nigeria 132\n",
      "21 Israel 124\n",
      "22 Sweden 118\n",
      "23 Switzerland 115\n",
      "24 South Korea 114\n",
      "25 South Africa 112\n",
      "26 Portugal 105\n",
      "27 Indonesia 103\n",
      "28 Colombia 101\n",
      "29 Argentina 99\n",
      "30 Viet Nam 96\n",
      "31 Pakistan 90\n",
      "32 Greece 83\n",
      "33 Denmark 81\n",
      "34 Malaysia 75\n",
      "35 Belgium 73\n",
      "36 Ireland 72\n",
      "37 Hungary 68\n",
      "38 Belarus 65\n",
      "39 Chile 60\n",
      "40 Egypt 55\n",
      "41 New Zealand 55\n",
      "42 Iran, Islamic Republic of... 55\n",
      "43 Bangladesh 55\n",
      "44 Peru 54\n",
      "45 Norway 53\n",
      "46 Kenya 53\n",
      "47 Finland 52\n",
      "48 Romania 51\n",
      "49 Philippines 49\n",
      "50 Czech Republic 48\n",
      "51 Republic of Korea 45\n",
      "52 Thailand 45\n",
      "53 Hong Kong (S.A.R.) 43\n",
      "54 Austria 40\n",
      "55 Morocco 35\n",
      "56 Tunisia 35\n"
     ]
    }
   ],
   "source": [
    "df_Tunisia = df[df['Q3']=='Tunisia']\n",
    "\n",
    "def N_given_percent(df,percent):\n",
    "    dict_countries = dict(df['Q3'].value_counts())\n",
    "    N_tot = df.shape[0]\n",
    "    N_percent = 0\n",
    "    i = 1\n",
    "    for key in dict_countries.keys():\n",
    "        if (key=='Other'): continue\n",
    "        if (key=='I do not wish to disclose my location'): continue\n",
    "        print(i, key, dict_countries[key])\n",
    "        N_percent += dict_countries[key]\n",
    "        i += 1\n",
    "        if (N_percent>=percent*N_tot): break\n",
    "\n",
    "print('')\n",
    "percents = [0.5,1.1]\n",
    "for p in percents:\n",
    "    print('')\n",
    "    print('p =',p )\n",
    "    N_given_percent(df,p)"
   ]
  },
  {
   "cell_type": "code",
   "execution_count": 17,
   "metadata": {},
   "outputs": [],
   "source": [
    "def print_dict(d):\n",
    "    for key in d:\n",
    "        print(key,int(d[key]))\n",
    "        \n",
    "\n",
    "def ranges_to_numerical(df, col_name='Q9', whole_set = all_salaries):\n",
    "    subset = df[col_name].unique()\n",
    "    ordered_subset = order_subset(subset,whole_set)\n",
    "    dict_ranges = dict(df[col_name].value_counts())\n",
    "    N_tot = df.shape[0]\n",
    "    N_values = len(ordered_subset)\n",
    "    N_values1 = len(dict_ranges)\n",
    "    if (N_values!=N_values1):\n",
    "        print('In ranges_to_numerical: (N_values!=N_values1)')\n",
    "        return\n",
    "    Ns_given_range = [0]*N_values\n",
    "    percentile = 0\n",
    "    ordered_dict = {}\n",
    "    for key in ordered_subset:\n",
    "        N_i = dict_ranges[key]\n",
    "        percentile = percentile+100*N_i/N_tot\n",
    "        ordered_dict[key] = percentile\n",
    "    return ordered_dict"
   ]
  },
  {
   "cell_type": "code",
   "execution_count": 18,
   "metadata": {},
   "outputs": [
    {
     "name": "stdout",
     "output_type": "stream",
     "text": [
      "0-10,000 74\n",
      "10-20,000 80\n",
      "20-30,000 85\n",
      "30-40,000 94\n",
      "50-60,000 97\n",
      "200-250,000 100\n"
     ]
    }
   ],
   "source": [
    "ordered_dict = ranges_to_numerical(df_Tunisia, col_name='Q9', whole_set = all_salaries)\n",
    "print_dict(ordered_dict)"
   ]
  },
  {
   "cell_type": "code",
   "execution_count": 19,
   "metadata": {},
   "outputs": [
    {
     "name": "stdout",
     "output_type": "stream",
     "text": [
      "1 India 56\n",
      "2 China 52\n",
      "3 Turkey 51\n",
      "4 Nigeria 78\n",
      "5 Indonesia 69\n",
      "6 Viet Nam 64\n",
      "7 Pakistan 63\n",
      "8 Egypt 72\n",
      "9 Iran, Islamic Republic of... 74\n",
      "10 Bangladesh 78\n",
      "11 Peru 53\n",
      "12 Philippines 61\n",
      "13 Morocco 51\n",
      "14 Tunisia 74\n"
     ]
    }
   ],
   "source": [
    "# How many countries have >50% of data scientists making 0-10'000\n",
    "dict_countries = dict(df['Q3'].value_counts())\n",
    "i=1\n",
    "for country in dict_countries.keys():\n",
    "    ordered_dict = ranges_to_numerical(df[df['Q3']==country], col_name='Q9', whole_set = all_salaries)\n",
    "    if ('0-10,000') in ordered_dict.keys():\n",
    "        if (ordered_dict['0-10,000']>=50):\n",
    "            print(i,country,int(ordered_dict['0-10,000']))\n",
    "            i+=1"
   ]
  },
  {
   "cell_type": "code",
   "execution_count": 28,
   "metadata": {},
   "outputs": [
    {
     "data": {
      "text/plain": [
       "array([nan, 'Jupyter/IPython'], dtype=object)"
      ]
     },
     "execution_count": 28,
     "metadata": {},
     "output_type": "execute_result"
    }
   ],
   "source": [
    "df['Q13_Part_1'].unique()"
   ]
  },
  {
   "cell_type": "code",
   "execution_count": null,
   "metadata": {},
   "outputs": [],
   "source": []
  }
 ],
 "metadata": {
  "kernelspec": {
   "display_name": "Python 3",
   "language": "python",
   "name": "python3"
  },
  "language_info": {
   "codemirror_mode": {
    "name": "ipython",
    "version": 3
   },
   "file_extension": ".py",
   "mimetype": "text/x-python",
   "name": "python",
   "nbconvert_exporter": "python",
   "pygments_lexer": "ipython3",
   "version": "3.6.5"
  }
 },
 "nbformat": 4,
 "nbformat_minor": 2
}
